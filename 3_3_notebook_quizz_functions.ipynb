{
  "nbformat": 4,
  "nbformat_minor": 0,
  "metadata": {
    "kernelspec": {
      "display_name": "Python 3",
      "language": "python",
      "name": "python3"
    },
    "language_info": {
      "codemirror_mode": {
        "name": "ipython",
        "version": 3
      },
      "file_extension": ".py",
      "mimetype": "text/x-python",
      "name": "python",
      "nbconvert_exporter": "python",
      "pygments_lexer": "ipython3",
      "version": "3.6.5"
    },
    "colab": {
      "name": "3.3_notebook_quizz_functions.ipynb",
      "provenance": [],
      "include_colab_link": true
    }
  },
  "cells": [
    {
      "cell_type": "markdown",
      "metadata": {
        "id": "view-in-github",
        "colab_type": "text"
      },
      "source": [
        "<a href=\"https://colab.research.google.com/github/nayidob/Python-for-Data-Science-PY0101EN/blob/master/3_3_notebook_quizz_functions.ipynb\" target=\"_parent\"><img src=\"https://colab.research.google.com/assets/colab-badge.svg\" alt=\"Open In Colab\"/></a>"
      ]
    },
    {
      "cell_type": "markdown",
      "metadata": {
        "id": "gvAPmk_ELIcc",
        "colab_type": "text"
      },
      "source": [
        "<h3 align=center>Function</h3> "
      ]
    },
    {
      "cell_type": "markdown",
      "metadata": {
        "id": "7mD3i6ODLIce",
        "colab_type": "text"
      },
      "source": [
        "complete the function <code> f </code> so that it returns the product of <code> a </code> and <code> b </code> , you the next cell to test the function"
      ]
    },
    {
      "cell_type": "code",
      "metadata": {
        "id": "RR_GL3xdLIcf",
        "colab_type": "code",
        "colab": {}
      },
      "source": [
        "def f(a,b):\n",
        "    \n",
        "    return "
      ],
      "execution_count": 0,
      "outputs": []
    },
    {
      "cell_type": "markdown",
      "metadata": {
        "id": "YZSPXe_bLIcm",
        "colab_type": "text"
      },
      "source": [
        "test the function using the next cell:"
      ]
    },
    {
      "cell_type": "code",
      "metadata": {
        "id": "na65dg8vLIcn",
        "colab_type": "code",
        "colab": {}
      },
      "source": [
        "a=4\n",
        "b=2\n",
        "\n",
        "if a*b==f(a,b):   \n",
        "    print(\"correct\")   \n",
        "else:    \n",
        "    print(\"incorrect\")"
      ],
      "execution_count": 0,
      "outputs": []
    },
    {
      "cell_type": "markdown",
      "metadata": {
        "id": "FWWZj4TBLIct",
        "colab_type": "text"
      },
      "source": [
        "Complete the function <code> g </code> such that the input <code> c </code> is a list of integers and the output is the sum of all the elements in the list "
      ]
    },
    {
      "cell_type": "code",
      "metadata": {
        "id": "lulUk2pyLIcu",
        "colab_type": "code",
        "colab": {}
      },
      "source": [
        "def g(c):\n",
        "\n",
        "    return "
      ],
      "execution_count": 0,
      "outputs": []
    },
    {
      "cell_type": "markdown",
      "metadata": {
        "id": "5z2HCShSLIc0",
        "colab_type": "text"
      },
      "source": [
        "test the function using the next cell:"
      ]
    },
    {
      "cell_type": "code",
      "metadata": {
        "id": "Mg_BarXfLIc1",
        "colab_type": "code",
        "colab": {}
      },
      "source": [
        "c=[1,2,3,4,5]\n",
        "\n",
        "if sum(c)==g(c):   \n",
        "    print(\"correct\")   \n",
        "else:    \n",
        "    print(\"incorrect\")"
      ],
      "execution_count": 0,
      "outputs": []
    },
    {
      "cell_type": "markdown",
      "metadata": {
        "id": "Ii4VAP-TLIc9",
        "colab_type": "text"
      },
      "source": [
        "<hr>\n",
        "<small>Copyright &copy; 2018 IBM Cognitive Class. This notebook and its source code are released under the terms of the [MIT License](https://cognitiveclass.ai/mit-license/).</small>"
      ]
    }
  ]
}