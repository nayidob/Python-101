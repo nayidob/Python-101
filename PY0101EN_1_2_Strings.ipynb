{
  "nbformat": 4,
  "nbformat_minor": 0,
  "metadata": {
    "kernelspec": {
      "display_name": "Python",
      "language": "python",
      "name": "conda-env-python-py"
    },
    "language_info": {
      "codemirror_mode": {
        "name": "ipython",
        "version": 3
      },
      "file_extension": ".py",
      "mimetype": "text/x-python",
      "name": "python",
      "nbconvert_exporter": "python",
      "pygments_lexer": "ipython3",
      "version": "3.6.10"
    },
    "colab": {
      "name": "PY0101EN-1-2-Strings.ipynb",
      "provenance": [],
      "include_colab_link": true
    }
  },
  "cells": [
    {
      "cell_type": "markdown",
      "metadata": {
        "id": "view-in-github",
        "colab_type": "text"
      },
      "source": [
        "<a href=\"https://colab.research.google.com/github/nayidob/Python-for-Data-Science-PY0101EN/blob/master/PY0101EN_1_2_Strings.ipynb\" target=\"_parent\"><img src=\"https://colab.research.google.com/assets/colab-badge.svg\" alt=\"Open In Colab\"/></a>"
      ]
    },
    {
      "cell_type": "markdown",
      "metadata": {
        "id": "a2EdqflcOEYs",
        "colab_type": "text"
      },
      "source": [
        "<div class=\"alert alert-block alert-info\" style=\"margin-top: 20px\">\n",
        "    <a href=\"https://cocl.us/NotebooksPython101\">\n",
        "         <img src=\"https://s3-api.us-geo.objectstorage.softlayer.net/cf-courses-data/CognitiveClass/PY0101EN/Ad/TopAd.png\" width=\"750\" align=\"center\">\n",
        "    </a>\n",
        "</div>"
      ]
    },
    {
      "cell_type": "markdown",
      "metadata": {
        "id": "PiJP2HX7OEYu",
        "colab_type": "text"
      },
      "source": [
        "<a href=\"https://cognitiveclass.ai/\">\n",
        "    <img src=\"https://s3-api.us-geo.objectstorage.softlayer.net/cf-courses-data/CognitiveClass/PY0101EN/Ad/CCLog.png\" width=\"200\" align=\"center\">\n",
        "</a>"
      ]
    },
    {
      "cell_type": "markdown",
      "metadata": {
        "id": "jtMLzBOlOEYv",
        "colab_type": "text"
      },
      "source": [
        "<h1>String Operations</h1>"
      ]
    },
    {
      "cell_type": "markdown",
      "metadata": {
        "id": "CgauJqjtOEYw",
        "colab_type": "text"
      },
      "source": [
        "<p><strong>Welcome!</strong> This notebook will teach you about the string operations in the Python Programming Language. By the end of this notebook, you'll know the basics string operations in Python, including indexing, escape sequences and operations.</p> "
      ]
    },
    {
      "cell_type": "markdown",
      "metadata": {
        "id": "9bbx04kQOEYx",
        "colab_type": "text"
      },
      "source": [
        "<h2>Table of Contents</h2>\n",
        "<div class=\"alert alert-block alert-info\" style=\"margin-top: 20px\">\n",
        "    <ul>\n",
        "        <li>\n",
        "            <a href=\"#strings\">What are Strings?</a>\n",
        "        </li>\n",
        "        <li>\n",
        "            <a href=\"#index\">Indexing</a>\n",
        "            <ul>\n",
        "                <li><a href=\"neg\">Negative Indexing</a></li>\n",
        "                <li><a href=\"slice\">Slicing</a></li>\n",
        "                <li><a href=\"stride\">Stride</a></li>\n",
        "                <li><a href=\"concat\">Concatenate Strings</a></li>\n",
        "            </ul>\n",
        "        </li>\n",
        "        <li>\n",
        "            <a href=\"#escape\">Escape Sequences</a>\n",
        "        </li>\n",
        "        <li>\n",
        "            <a href=\"#operations\">String Operations</a>\n",
        "        </li>\n",
        "        <li>\n",
        "            <a href=\"#quiz\">Quiz on Strings</a>\n",
        "        </li>\n",
        "    </ul>\n",
        "    <p>\n",
        "        Estimated time needed: <strong>15 min</strong>\n",
        "    </p>\n",
        "</div>\n",
        "\n",
        "<hr>"
      ]
    },
    {
      "cell_type": "markdown",
      "metadata": {
        "id": "gDwBIwZgOEYy",
        "colab_type": "text"
      },
      "source": [
        "<h2 id=\"strings\">What are Strings?</h2>"
      ]
    },
    {
      "cell_type": "markdown",
      "metadata": {
        "id": "6VLGlSnEOEYz",
        "colab_type": "text"
      },
      "source": [
        "The following example shows a string contained within 2 quotation marks:"
      ]
    },
    {
      "cell_type": "code",
      "metadata": {
        "jupyter": {
          "outputs_hidden": false
        },
        "id": "WnxlAxS3OEY0",
        "colab_type": "code",
        "colab": {}
      },
      "source": [
        "# Use quotation marks for defining string\n",
        "\n",
        "\"Michael Jackson\""
      ],
      "execution_count": 0,
      "outputs": []
    },
    {
      "cell_type": "markdown",
      "metadata": {
        "id": "_pqtLvXkOEY6",
        "colab_type": "text"
      },
      "source": [
        "We can also use single quotation marks:"
      ]
    },
    {
      "cell_type": "code",
      "metadata": {
        "jupyter": {
          "outputs_hidden": false
        },
        "id": "3mJ9zAqJOEY7",
        "colab_type": "code",
        "colab": {}
      },
      "source": [
        "# Use single quotation marks for defining string\n",
        "\n",
        "'Michael Jackson'"
      ],
      "execution_count": 0,
      "outputs": []
    },
    {
      "cell_type": "markdown",
      "metadata": {
        "id": "GFDaOrD3OEZA",
        "colab_type": "text"
      },
      "source": [
        "A string can be a combination of spaces and digits: "
      ]
    },
    {
      "cell_type": "code",
      "metadata": {
        "jupyter": {
          "outputs_hidden": false
        },
        "id": "Ie-tfWtfOEZB",
        "colab_type": "code",
        "colab": {}
      },
      "source": [
        "# Digitals and spaces in string\n",
        "\n",
        "'1 2 3 4 5 6 '"
      ],
      "execution_count": 0,
      "outputs": []
    },
    {
      "cell_type": "markdown",
      "metadata": {
        "id": "8DvukCOmOEZG",
        "colab_type": "text"
      },
      "source": [
        "A string can also be a combination of special characters : "
      ]
    },
    {
      "cell_type": "code",
      "metadata": {
        "jupyter": {
          "outputs_hidden": false
        },
        "id": "BvWu70usOEZH",
        "colab_type": "code",
        "colab": {}
      },
      "source": [
        "# Special characters in string\n",
        "\n",
        "'@#2_#]&*^%$'"
      ],
      "execution_count": 0,
      "outputs": []
    },
    {
      "cell_type": "markdown",
      "metadata": {
        "id": "k8GEXrBBOEZM",
        "colab_type": "text"
      },
      "source": [
        "We can print our string using the print statement:"
      ]
    },
    {
      "cell_type": "code",
      "metadata": {
        "jupyter": {
          "outputs_hidden": false
        },
        "id": "OXpG_I_eOEZM",
        "colab_type": "code",
        "colab": {}
      },
      "source": [
        "# Print the string\n",
        "\n",
        "print(\"hello!\")"
      ],
      "execution_count": 0,
      "outputs": []
    },
    {
      "cell_type": "markdown",
      "metadata": {
        "id": "IxTL60s4OEZT",
        "colab_type": "text"
      },
      "source": [
        "We can bind or assign a string to another variable:\n"
      ]
    },
    {
      "cell_type": "code",
      "metadata": {
        "jupyter": {
          "outputs_hidden": false
        },
        "id": "ds3UkQZXOEZU",
        "colab_type": "code",
        "colab": {}
      },
      "source": [
        "# Assign string to variable\n",
        "\n",
        "Name = \"Michael Jackson\"\n",
        "Name"
      ],
      "execution_count": 0,
      "outputs": []
    },
    {
      "cell_type": "markdown",
      "metadata": {
        "id": "rQkl6kU9OEZZ",
        "colab_type": "text"
      },
      "source": [
        "<hr>"
      ]
    },
    {
      "cell_type": "markdown",
      "metadata": {
        "id": "Z0PFVj_8OEZa",
        "colab_type": "text"
      },
      "source": [
        "<h2 id=\"index\">Indexing</h2>"
      ]
    },
    {
      "cell_type": "markdown",
      "metadata": {
        "id": "DboP04jlOEZb",
        "colab_type": "text"
      },
      "source": [
        "It is helpful to think of a string as an ordered sequence. Each element in the sequence can be accessed using an index represented by the array of numbers:  "
      ]
    },
    {
      "cell_type": "markdown",
      "metadata": {
        "id": "wRioYCgJOEZc",
        "colab_type": "text"
      },
      "source": [
        "<img src=\"https://s3-api.us-geo.objectstorage.softlayer.net/cf-courses-data/CognitiveClass/PY0101EN/Chapter%201/Images/StringsIndex.png\" width=\"600\" align=\"center\" />"
      ]
    },
    {
      "cell_type": "markdown",
      "metadata": {
        "id": "6h3ZFX_LOEZd",
        "colab_type": "text"
      },
      "source": [
        " The first index can be accessed as follows:"
      ]
    },
    {
      "cell_type": "markdown",
      "metadata": {
        "id": "KriWmtTEOEZe",
        "colab_type": "text"
      },
      "source": [
        "<hr/>\n",
        "<div class=\"alert alert-success alertsuccess\" style=\"margin-top: 20px\">\n",
        "[Tip]: Because indexing starts at 0, it means the first index is on the index 0.\n",
        "</div>\n",
        "<hr/>"
      ]
    },
    {
      "cell_type": "code",
      "metadata": {
        "jupyter": {
          "outputs_hidden": false
        },
        "id": "lbU163KcOEZe",
        "colab_type": "code",
        "colab": {}
      },
      "source": [
        "# Print the first element in the string\n",
        "\n",
        "print(Name[0])"
      ],
      "execution_count": 0,
      "outputs": []
    },
    {
      "cell_type": "markdown",
      "metadata": {
        "id": "Xbi1NSdGOEZj",
        "colab_type": "text"
      },
      "source": [
        " We can access index 6:"
      ]
    },
    {
      "cell_type": "code",
      "metadata": {
        "jupyter": {
          "outputs_hidden": false
        },
        "id": "JXBcVr41OEZl",
        "colab_type": "code",
        "colab": {}
      },
      "source": [
        "# Print the element on index 6 in the string\n",
        "\n",
        "print(Name[6])"
      ],
      "execution_count": 0,
      "outputs": []
    },
    {
      "cell_type": "markdown",
      "metadata": {
        "id": "CuRoV6Y6OEZ1",
        "colab_type": "text"
      },
      "source": [
        "Moreover, we can access the 13th index:"
      ]
    },
    {
      "cell_type": "code",
      "metadata": {
        "jupyter": {
          "outputs_hidden": false
        },
        "id": "7O1SogNoOEZ2",
        "colab_type": "code",
        "colab": {}
      },
      "source": [
        "# Print the element on the 13th index in the string\n",
        "\n",
        "print(Name[13])"
      ],
      "execution_count": 0,
      "outputs": []
    },
    {
      "cell_type": "markdown",
      "metadata": {
        "id": "ZLU38xJHOEZ6",
        "colab_type": "text"
      },
      "source": [
        "<h3 id=\"neg\">Negative Indexing</h3>"
      ]
    },
    {
      "cell_type": "markdown",
      "metadata": {
        "id": "Rg4EgsQpOEZ6",
        "colab_type": "text"
      },
      "source": [
        " We can also use negative indexing with strings:"
      ]
    },
    {
      "cell_type": "markdown",
      "metadata": {
        "id": "WsIwWEc3OEZ7",
        "colab_type": "text"
      },
      "source": [
        "<img src=\"https://s3-api.us-geo.objectstorage.softlayer.net/cf-courses-data/CognitiveClass/PY0101EN/Chapter%201/Images/StringsNeg.png\" width=\"600\" align=\"center\" />"
      ]
    },
    {
      "cell_type": "markdown",
      "metadata": {
        "id": "LcMAJb3QOEZ8",
        "colab_type": "text"
      },
      "source": [
        "Negative index can help us to count the element from the end of the string."
      ]
    },
    {
      "cell_type": "markdown",
      "metadata": {
        "id": "Wqr9oDBrOEZ8",
        "colab_type": "text"
      },
      "source": [
        "The last element is given by the index -1: "
      ]
    },
    {
      "cell_type": "code",
      "metadata": {
        "jupyter": {
          "outputs_hidden": false
        },
        "id": "kfyQr0yhOEZ9",
        "colab_type": "code",
        "colab": {}
      },
      "source": [
        "# Print the last element in the string\n",
        "\n",
        "print(Name[-1])"
      ],
      "execution_count": 0,
      "outputs": []
    },
    {
      "cell_type": "markdown",
      "metadata": {
        "id": "1QKjRL__OEaC",
        "colab_type": "text"
      },
      "source": [
        " The first element can be obtained by  index -15:"
      ]
    },
    {
      "cell_type": "code",
      "metadata": {
        "jupyter": {
          "outputs_hidden": false
        },
        "id": "9ikCtq94OEaD",
        "colab_type": "code",
        "colab": {}
      },
      "source": [
        "# Print the first element in the string\n",
        "\n",
        "print(Name[-15])"
      ],
      "execution_count": 0,
      "outputs": []
    },
    {
      "cell_type": "markdown",
      "metadata": {
        "id": "CVqdXSQhOEaI",
        "colab_type": "text"
      },
      "source": [
        "We can find the number of characters in a string by using <code>len</code>, short for length:"
      ]
    },
    {
      "cell_type": "code",
      "metadata": {
        "jupyter": {
          "outputs_hidden": false
        },
        "id": "NkHqgrgOOEaJ",
        "colab_type": "code",
        "colab": {}
      },
      "source": [
        "# Find the length of string\n",
        "\n",
        "len(\"Michael Jackson\")"
      ],
      "execution_count": 0,
      "outputs": []
    },
    {
      "cell_type": "markdown",
      "metadata": {
        "id": "OM0JNlnTOEaN",
        "colab_type": "text"
      },
      "source": [
        "<h3 id=\"slice\">Slicing</h3>"
      ]
    },
    {
      "cell_type": "markdown",
      "metadata": {
        "id": "-S5mdxp7OEaO",
        "colab_type": "text"
      },
      "source": [
        "We can obtain multiple characters from a string using slicing, we can obtain the 0 to 4th and 8th to the 12th element:  "
      ]
    },
    {
      "cell_type": "markdown",
      "metadata": {
        "id": "NDCuoftuOEaO",
        "colab_type": "text"
      },
      "source": [
        "<img src=\"https://s3-api.us-geo.objectstorage.softlayer.net/cf-courses-data/CognitiveClass/PY0101EN/Chapter%201/Images/StringsSlice.png\" width=\"600\" align=\"center\" />"
      ]
    },
    {
      "cell_type": "markdown",
      "metadata": {
        "id": "jySgNX_fOEaP",
        "colab_type": "text"
      },
      "source": [
        "<hr/>\n",
        "<div class=\"alert alert-success alertsuccess\" style=\"margin-top: 20px\">\n",
        "[Tip]: When taking the slice, the first number means the index (start at 0), and the second number means the length from the index to the last element you want (start at 1)\n",
        "</div>\n",
        "<hr/>"
      ]
    },
    {
      "cell_type": "code",
      "metadata": {
        "jupyter": {
          "outputs_hidden": false
        },
        "id": "E0JZfvLdOEaQ",
        "colab_type": "code",
        "colab": {}
      },
      "source": [
        "# Take the slice on variable Name with only index 0 to index 3\n",
        "\n",
        "Name[0:4]"
      ],
      "execution_count": 0,
      "outputs": []
    },
    {
      "cell_type": "code",
      "metadata": {
        "jupyter": {
          "outputs_hidden": false
        },
        "id": "_jyF7EdvOEaU",
        "colab_type": "code",
        "colab": {}
      },
      "source": [
        "# Take the slice on variable Name with only index 8 to index 11\n",
        "\n",
        "Name[8:12]"
      ],
      "execution_count": 0,
      "outputs": []
    },
    {
      "cell_type": "markdown",
      "metadata": {
        "id": "CfdQWm43OEaY",
        "colab_type": "text"
      },
      "source": [
        "<h3 id=\"stride\">Stride</h3>"
      ]
    },
    {
      "cell_type": "markdown",
      "metadata": {
        "id": "uHmMT6Y5OEaZ",
        "colab_type": "text"
      },
      "source": [
        " We can also  input a stride value as follows, with the '2' indicating that we are selecting every second variable:"
      ]
    },
    {
      "cell_type": "markdown",
      "metadata": {
        "id": "D5yjN4OCOEaa",
        "colab_type": "text"
      },
      "source": [
        "<img src=\"https://s3-api.us-geo.objectstorage.softlayer.net/cf-courses-data/CognitiveClass/PY0101EN/Chapter%201/Images/StringsStride.png\" width=\"600\" align=\"center\" />"
      ]
    },
    {
      "cell_type": "code",
      "metadata": {
        "jupyter": {
          "outputs_hidden": false
        },
        "id": "iiTx4wySOEaa",
        "colab_type": "code",
        "colab": {}
      },
      "source": [
        "# Get every second element. The elments on index 1, 3, 5 ...\n",
        "\n",
        "Name[::2]"
      ],
      "execution_count": 0,
      "outputs": []
    },
    {
      "cell_type": "markdown",
      "metadata": {
        "id": "pVfo3L7qOEae",
        "colab_type": "text"
      },
      "source": [
        "We can also incorporate slicing  with the stride. In this case, we select the first five elements and then use the stride: "
      ]
    },
    {
      "cell_type": "code",
      "metadata": {
        "jupyter": {
          "outputs_hidden": false
        },
        "id": "Syb5IRl0OEae",
        "colab_type": "code",
        "colab": {}
      },
      "source": [
        "# Get every second element in the range from index 0 to index 4\n",
        "\n",
        "Name[0:5:2]"
      ],
      "execution_count": 0,
      "outputs": []
    },
    {
      "cell_type": "markdown",
      "metadata": {
        "id": "dEbmkuhIOEai",
        "colab_type": "text"
      },
      "source": [
        "<h3 id=\"concat\">Concatenate Strings</h3>"
      ]
    },
    {
      "cell_type": "markdown",
      "metadata": {
        "id": "CQrGCuFqOEaj",
        "colab_type": "text"
      },
      "source": [
        "We can concatenate or combine strings by using the addition symbols, and the result is a new string that is a combination of both:\n"
      ]
    },
    {
      "cell_type": "code",
      "metadata": {
        "jupyter": {
          "outputs_hidden": false
        },
        "id": "VcY70fr1OEak",
        "colab_type": "code",
        "colab": {}
      },
      "source": [
        "# Concatenate two strings\n",
        "\n",
        "Statement = Name + \"is the best\"\n",
        "Statement"
      ],
      "execution_count": 0,
      "outputs": []
    },
    {
      "cell_type": "markdown",
      "metadata": {
        "id": "Lkc4AHtSOEap",
        "colab_type": "text"
      },
      "source": [
        "To replicate values of a string we simply multiply the string by the number of times we would like to replicate it. In this case, the number is three. The result is a new string, and this new string consists of three copies of the original string:"
      ]
    },
    {
      "cell_type": "code",
      "metadata": {
        "jupyter": {
          "outputs_hidden": false
        },
        "id": "_-IVXXJHOEaq",
        "colab_type": "code",
        "colab": {}
      },
      "source": [
        "# Print the string for 3 times\n",
        "\n",
        "3 * \"Michael Jackson\""
      ],
      "execution_count": 0,
      "outputs": []
    },
    {
      "cell_type": "markdown",
      "metadata": {
        "id": "zCX-78R6OEau",
        "colab_type": "text"
      },
      "source": [
        "You can create a new string by setting it to the original variable. Concatenated  with a new string, the result is a new string that changes from Michael Jackson to “Michael Jackson is the best\".\n"
      ]
    },
    {
      "cell_type": "code",
      "metadata": {
        "jupyter": {
          "outputs_hidden": false
        },
        "id": "kmKpu-awOEav",
        "colab_type": "code",
        "colab": {}
      },
      "source": [
        "# Concatenate strings\n",
        "\n",
        "Name = \"Michael Jackson\"\n",
        "Name = Name + \" is the best\"\n",
        "Name"
      ],
      "execution_count": 0,
      "outputs": []
    },
    {
      "cell_type": "markdown",
      "metadata": {
        "id": "T7sqsNsdOEa0",
        "colab_type": "text"
      },
      "source": [
        "<hr>"
      ]
    },
    {
      "cell_type": "markdown",
      "metadata": {
        "id": "LtjPpH2pOEa1",
        "colab_type": "text"
      },
      "source": [
        "<h2 id=\"escape\">Escape Sequences</h2>"
      ]
    },
    {
      "cell_type": "markdown",
      "metadata": {
        "id": "torbmSaqOEa1",
        "colab_type": "text"
      },
      "source": [
        "Back slashes represent the beginning  of escape sequences. Escape sequences represent strings that may be difficult to input. For example, back slash \"n\" represents a new line. The output is given by a new line after the back slash \"n\" is encountered:"
      ]
    },
    {
      "cell_type": "code",
      "metadata": {
        "jupyter": {
          "outputs_hidden": false
        },
        "id": "T1_kMwpwOEa2",
        "colab_type": "code",
        "colab": {}
      },
      "source": [
        "# New line escape sequence\n",
        "\n",
        "print(\" Michael Jackson \\n is the best\" )"
      ],
      "execution_count": 0,
      "outputs": []
    },
    {
      "cell_type": "markdown",
      "metadata": {
        "id": "sieCVozeOEa7",
        "colab_type": "text"
      },
      "source": [
        "Similarly, back slash  \"t\" represents a tab: "
      ]
    },
    {
      "cell_type": "code",
      "metadata": {
        "jupyter": {
          "outputs_hidden": false
        },
        "id": "-n1WJYfqOEa8",
        "colab_type": "code",
        "colab": {}
      },
      "source": [
        "# Tab escape sequence\n",
        "\n",
        "print(\" Michael Jackson \\t is the best\" )"
      ],
      "execution_count": 0,
      "outputs": []
    },
    {
      "cell_type": "markdown",
      "metadata": {
        "id": "P-6Ayyn3OEa_",
        "colab_type": "text"
      },
      "source": [
        " If you want to place a back slash in your string, use a double back slash:"
      ]
    },
    {
      "cell_type": "code",
      "metadata": {
        "jupyter": {
          "outputs_hidden": false
        },
        "id": "kAbQ071VOEbA",
        "colab_type": "code",
        "colab": {}
      },
      "source": [
        "# Include back slash in string\n",
        "\n",
        "print(\" Michael Jackson \\\\ is the best\" )"
      ],
      "execution_count": 0,
      "outputs": []
    },
    {
      "cell_type": "markdown",
      "metadata": {
        "id": "gaWxbs02OEbF",
        "colab_type": "text"
      },
      "source": [
        " We can also place an \"r\" before the string to display the backslash:"
      ]
    },
    {
      "cell_type": "code",
      "metadata": {
        "jupyter": {
          "outputs_hidden": false
        },
        "id": "pGRNT-O6OEbG",
        "colab_type": "code",
        "colab": {}
      },
      "source": [
        "# r will tell python that string will be display as raw string\n",
        "\n",
        "print(r\" Michael Jackson \\ is the best\" )"
      ],
      "execution_count": 0,
      "outputs": []
    },
    {
      "cell_type": "markdown",
      "metadata": {
        "id": "Qsl2ZnP6OEbK",
        "colab_type": "text"
      },
      "source": [
        "<hr>"
      ]
    },
    {
      "cell_type": "markdown",
      "metadata": {
        "id": "ZbypVsjaOEbL",
        "colab_type": "text"
      },
      "source": [
        "<h2 id=\"operations\">String Operations</h2>"
      ]
    },
    {
      "cell_type": "markdown",
      "metadata": {
        "id": "9g9RM65bOEbM",
        "colab_type": "text"
      },
      "source": [
        "There are many string operation methods in Python that can be used to manipulate the data. We are going to use some basic string operations on the data. "
      ]
    },
    {
      "cell_type": "markdown",
      "metadata": {
        "id": "uC2WLpgCOEbN",
        "colab_type": "text"
      },
      "source": [
        "Let's try with the method <code>upper</code>; this method converts lower case characters to upper case characters:"
      ]
    },
    {
      "cell_type": "code",
      "metadata": {
        "jupyter": {
          "outputs_hidden": false
        },
        "id": "XXTiyKiYOEbO",
        "colab_type": "code",
        "colab": {}
      },
      "source": [
        "# Convert all the characters in string to upper case\n",
        "\n",
        "A = \"Thriller is the sixth studio album\"\n",
        "print(\"before upper:\", A)\n",
        "B = A.upper()\n",
        "print(\"After upper:\", B)"
      ],
      "execution_count": 0,
      "outputs": []
    },
    {
      "cell_type": "markdown",
      "metadata": {
        "id": "_8FkDdIaOEbS",
        "colab_type": "text"
      },
      "source": [
        "The method <code>replace</code> replaces a segment of the string, i.e. a substring  with a new string. We input the part of the string we would like to change. The second argument is what we would like to exchange the segment with, and the result is a new string with the segment changed: \n"
      ]
    },
    {
      "cell_type": "code",
      "metadata": {
        "jupyter": {
          "outputs_hidden": false
        },
        "id": "aP0_EPYyOEbT",
        "colab_type": "code",
        "colab": {}
      },
      "source": [
        "# Replace the old substring with the new target substring is the segment has been found in the string\n",
        "\n",
        "A = \"Michael Jackson is the best\"\n",
        "B = A.replace('Michael', 'Janet')\n",
        "B"
      ],
      "execution_count": 0,
      "outputs": []
    },
    {
      "cell_type": "markdown",
      "metadata": {
        "id": "DuATROSTOEbZ",
        "colab_type": "text"
      },
      "source": [
        "The method <code>find</code> finds a sub-string. The argument is the substring you would like to find, and the output is the first index of the sequence. We can find the sub-string <code>jack</code> or <code>el<code>.  "
      ]
    },
    {
      "cell_type": "markdown",
      "metadata": {
        "id": "XdumBDNnOEbZ",
        "colab_type": "text"
      },
      "source": [
        "<img src=\"https://s3-api.us-geo.objectstorage.softlayer.net/cf-courses-data/CognitiveClass/PY0101EN/Chapter%201/Images/StringsFind.png\" width=\"600\" align=\"center\" />"
      ]
    },
    {
      "cell_type": "code",
      "metadata": {
        "jupyter": {
          "outputs_hidden": false
        },
        "id": "5wTwoRp-OEba",
        "colab_type": "code",
        "colab": {}
      },
      "source": [
        "# Find the substring in the string. Only the index of the first elment of substring in string will be the output\n",
        "\n",
        "Name = \"Michael Jackson\"\n",
        "Name.find('el')"
      ],
      "execution_count": 0,
      "outputs": []
    },
    {
      "cell_type": "code",
      "metadata": {
        "jupyter": {
          "outputs_hidden": false
        },
        "id": "twkM_C37OEbe",
        "colab_type": "code",
        "colab": {}
      },
      "source": [
        "# Find the substring in the string.\n",
        "\n",
        "Name.find('Jack')"
      ],
      "execution_count": 0,
      "outputs": []
    },
    {
      "cell_type": "markdown",
      "metadata": {
        "id": "9PrK9OrdOEbi",
        "colab_type": "text"
      },
      "source": [
        "If the  sub-string is not in the string then the output is a negative one. For example, the string 'Jasdfasdasdf' is not a substring:"
      ]
    },
    {
      "cell_type": "code",
      "metadata": {
        "jupyter": {
          "outputs_hidden": true
        },
        "id": "ZjIuh2prOEbj",
        "colab_type": "code",
        "colab": {}
      },
      "source": [
        "# If cannot find the substring in the string\n",
        "\n",
        "Name.find('Jasdfasdasdf')"
      ],
      "execution_count": 0,
      "outputs": []
    },
    {
      "cell_type": "markdown",
      "metadata": {
        "id": "MIoDX-nKOEbr",
        "colab_type": "text"
      },
      "source": [
        "<hr>"
      ]
    },
    {
      "cell_type": "markdown",
      "metadata": {
        "id": "N-AEqMtROEbr",
        "colab_type": "text"
      },
      "source": [
        "<h2 id=\"quiz\">Quiz on Strings</h2>"
      ]
    },
    {
      "cell_type": "markdown",
      "metadata": {
        "id": "uW2E6X4EOEbs",
        "colab_type": "text"
      },
      "source": [
        "What is the value of the variable <code>A</code> after the following code is executed? "
      ]
    },
    {
      "cell_type": "code",
      "metadata": {
        "id": "TWJCQ-Z-OEbt",
        "colab_type": "code",
        "colab": {}
      },
      "source": [
        "# Write your code below and press Shift+Enter to execute \n",
        "\n",
        "A = \"1\""
      ],
      "execution_count": 0,
      "outputs": []
    },
    {
      "cell_type": "markdown",
      "metadata": {
        "id": "IClotdpwOEbw",
        "colab_type": "text"
      },
      "source": [
        "Double-click <b>here</b> for the solution.\n",
        "\n",
        "<!-- Your answer is below:\n",
        "\"1\"\n",
        "-->"
      ]
    },
    {
      "cell_type": "markdown",
      "metadata": {
        "id": "3oWGlrzDOEbx",
        "colab_type": "text"
      },
      "source": [
        "What is the value of the variable <code>B</code> after the following code is executed?"
      ]
    },
    {
      "cell_type": "code",
      "metadata": {
        "id": "slUf3IRIOEbx",
        "colab_type": "code",
        "colab": {}
      },
      "source": [
        "# Write your code below and press Shift+Enter to execute\n",
        "\n",
        "B = \"2\""
      ],
      "execution_count": 0,
      "outputs": []
    },
    {
      "cell_type": "markdown",
      "metadata": {
        "id": "zTIYHiOVOEb1",
        "colab_type": "text"
      },
      "source": [
        "Double-click <b>here</b> for the solution.\n",
        "\n",
        "<!-- Your answer is below:\n",
        "\"2\"\n",
        "-->"
      ]
    },
    {
      "cell_type": "markdown",
      "metadata": {
        "id": "e-WZGdvROEb2",
        "colab_type": "text"
      },
      "source": [
        "What is the value of the variable <code>C</code> after the following code is executed?"
      ]
    },
    {
      "cell_type": "code",
      "metadata": {
        "jupyter": {
          "outputs_hidden": false
        },
        "id": "gbGqYrnSOEb5",
        "colab_type": "code",
        "colab": {}
      },
      "source": [
        "# Write your code below and press Shift+Enter to execute \n",
        "\n",
        "C = A + B"
      ],
      "execution_count": 0,
      "outputs": []
    },
    {
      "cell_type": "markdown",
      "metadata": {
        "id": "dlwCceQfOEcA",
        "colab_type": "text"
      },
      "source": [
        "Double-click <b>here</b> for the solution.\n",
        "\n",
        "<!-- Your answer is below:\n",
        "\"12\"\n",
        "-->"
      ]
    },
    {
      "cell_type": "markdown",
      "metadata": {
        "id": "AOGrI7_LOEcA",
        "colab_type": "text"
      },
      "source": [
        "<hr>"
      ]
    },
    {
      "cell_type": "markdown",
      "metadata": {
        "id": "iFoRYFSuOEcB",
        "colab_type": "text"
      },
      "source": [
        "Consider the variable <code>D</code> use slicing to print out the first three elements:"
      ]
    },
    {
      "cell_type": "code",
      "metadata": {
        "jupyter": {
          "outputs_hidden": false
        },
        "id": "R9b78KLBOEcB",
        "colab_type": "code",
        "colab": {}
      },
      "source": [
        "# Write your code below and press Shift+Enter to execute\n",
        "\n",
        "D = \"ABCDEFG\""
      ],
      "execution_count": 0,
      "outputs": []
    },
    {
      "cell_type": "markdown",
      "metadata": {
        "id": "x4TP2tJBOEcG",
        "colab_type": "text"
      },
      "source": [
        "Double-click <b>here</b> for the solution.\n",
        "\n",
        "<!-- Your answer is below:\n",
        "print(D[:3]) \n",
        "# or \n",
        "print(D[0:3])\n",
        "-->"
      ]
    },
    {
      "cell_type": "markdown",
      "metadata": {
        "id": "rbrq2Vz2OEcH",
        "colab_type": "text"
      },
      "source": [
        "<hr>"
      ]
    },
    {
      "cell_type": "markdown",
      "metadata": {
        "id": "j4LX1j3vOEcI",
        "colab_type": "text"
      },
      "source": [
        "Use a stride value of 2 to print out every second character of the string <code>E</code>: "
      ]
    },
    {
      "cell_type": "code",
      "metadata": {
        "jupyter": {
          "outputs_hidden": true
        },
        "id": "T7d1ca5LOEcI",
        "colab_type": "code",
        "colab": {}
      },
      "source": [
        "# Write your code below and press Shift+Enter to execute\n",
        "\n",
        "E = 'clocrkr1e1c1t'"
      ],
      "execution_count": 0,
      "outputs": []
    },
    {
      "cell_type": "markdown",
      "metadata": {
        "id": "aWXE6xplOEcN",
        "colab_type": "text"
      },
      "source": [
        "Double-click <b>here</b> for the solution.\n",
        "\n",
        "<!-- Your answer is below:\n",
        "print(E[::2])\n",
        "-->"
      ]
    },
    {
      "cell_type": "markdown",
      "metadata": {
        "id": "g6X_bvuGOEcO",
        "colab_type": "text"
      },
      "source": [
        "<hr>"
      ]
    },
    {
      "cell_type": "markdown",
      "metadata": {
        "id": "n8M-yWSZOEcO",
        "colab_type": "text"
      },
      "source": [
        "Print out a backslash:"
      ]
    },
    {
      "cell_type": "code",
      "metadata": {
        "jupyter": {
          "outputs_hidden": false
        },
        "id": "59HZ0s8XOEcP",
        "colab_type": "code",
        "colab": {}
      },
      "source": [
        "# Write your code below and press Shift+Enter to execute"
      ],
      "execution_count": 0,
      "outputs": []
    },
    {
      "cell_type": "markdown",
      "metadata": {
        "id": "xbcCSbXyOEcT",
        "colab_type": "text"
      },
      "source": [
        "Double-click <b>here</b> for the solution.\n",
        "<!-- Your answer is below:\n",
        "print(\"\\\\\")\n",
        "or\n",
        "print(r\" \\ \")\n",
        "-->"
      ]
    },
    {
      "cell_type": "markdown",
      "metadata": {
        "id": "sMLmB3vGOEcU",
        "colab_type": "text"
      },
      "source": [
        "<hr>"
      ]
    },
    {
      "cell_type": "markdown",
      "metadata": {
        "id": "ny-Ed4GCOEcU",
        "colab_type": "text"
      },
      "source": [
        "Convert the variable <code>F</code> to uppercase:"
      ]
    },
    {
      "cell_type": "code",
      "metadata": {
        "jupyter": {
          "outputs_hidden": false
        },
        "id": "sDnOyBR7OEcV",
        "colab_type": "code",
        "colab": {}
      },
      "source": [
        "# Write your code below and press Shift+Enter to execute\n",
        "\n",
        "F = \"You are wrong\""
      ],
      "execution_count": 0,
      "outputs": []
    },
    {
      "cell_type": "markdown",
      "metadata": {
        "id": "8ClAzJbyOEca",
        "colab_type": "text"
      },
      "source": [
        "Double-click <b>here</b> for the solution.\n",
        "\n",
        "<!-- Your answer is below:\n",
        "F.upper()\n",
        "-->"
      ]
    },
    {
      "cell_type": "markdown",
      "metadata": {
        "id": "Va1l2e1KOEcb",
        "colab_type": "text"
      },
      "source": [
        "<hr>"
      ]
    },
    {
      "cell_type": "markdown",
      "metadata": {
        "id": "7rLHy3ImOEcd",
        "colab_type": "text"
      },
      "source": [
        "Consider the variable <code>G</code>, and find the first index of the sub-string <code>snow</code>:"
      ]
    },
    {
      "cell_type": "code",
      "metadata": {
        "jupyter": {
          "outputs_hidden": false
        },
        "id": "r-L7x0f6OEcd",
        "colab_type": "code",
        "colab": {}
      },
      "source": [
        "# Write your code below and press Shift+Enter to execute\n",
        "\n",
        "G = \"Mary had a little lamb Little lamb, little lamb Mary had a little lamb \\\n",
        "Its fleece was white as snow And everywhere that Mary went Mary went, Mary went \\\n",
        "Everywhere that Mary went The lamb was sure to go\""
      ],
      "execution_count": 0,
      "outputs": []
    },
    {
      "cell_type": "markdown",
      "metadata": {
        "id": "B8RJMAZQOEcg",
        "colab_type": "text"
      },
      "source": [
        "Double-click __here__ for the solution.\n",
        "\n",
        "<!-- Your answer is below:\n",
        "G.find(\"snow\")\n",
        "-->"
      ]
    },
    {
      "cell_type": "markdown",
      "metadata": {
        "id": "1HdKDxBdOEch",
        "colab_type": "text"
      },
      "source": [
        "In the variable <code>G</code>, replace the sub-string <code>Mary</code> with <code>Bob</code>:"
      ]
    },
    {
      "cell_type": "code",
      "metadata": {
        "jupyter": {
          "outputs_hidden": false
        },
        "id": "jMFpid_MOEch",
        "colab_type": "code",
        "colab": {}
      },
      "source": [
        "# Write your code below and press Shift+Enter to execute"
      ],
      "execution_count": 0,
      "outputs": []
    },
    {
      "cell_type": "markdown",
      "metadata": {
        "id": "51YW2JZCOEcp",
        "colab_type": "text"
      },
      "source": [
        "Double-click __here__ for the solution.\n",
        "\n",
        "<!-- Your answer is below:\n",
        "G.replace(\"Mary\", \"Bob\")\n",
        "-->"
      ]
    },
    {
      "cell_type": "markdown",
      "metadata": {
        "id": "t8BcH-g5OEcq",
        "colab_type": "text"
      },
      "source": [
        "<hr>\n",
        "<h2>The last exercise!</h2>\n",
        "<p>Congratulations, you have completed your first lesson and hands-on lab in Python. However, there is one more thing you need to do. The Data Science community encourages sharing work. The best way to share and showcase your work is to share it on GitHub. By sharing your notebook on GitHub you are not only building your reputation with fellow data scientists, but you can also show it off when applying for a job. Even though this was your first piece of work, it is never too early to start building good habits. So, please read and follow <a href=\"https://cognitiveclass.ai/blog/data-scientists-stand-out-by-sharing-your-notebooks/\" target=\"_blank\">this article</a> to learn how to share your work.\n",
        "<hr>"
      ]
    },
    {
      "cell_type": "markdown",
      "metadata": {
        "id": "_f2Ur6oCOEcr",
        "colab_type": "text"
      },
      "source": [
        "<div class=\"alert alert-block alert-info\" style=\"margin-top: 20px\">\n",
        "<h2>Get IBM Watson Studio free of charge!</h2>\n",
        "    <p><a href=\"https://cocl.us/NotebooksPython101bottom\"><img src=\"https://s3-api.us-geo.objectstorage.softlayer.net/cf-courses-data/CognitiveClass/PY0101EN/Ad/BottomAd.png\" width=\"750\" align=\"center\"></a></p>\n",
        "</div>"
      ]
    },
    {
      "cell_type": "markdown",
      "metadata": {
        "id": "J5nTVt3GOEcs",
        "colab_type": "text"
      },
      "source": [
        "<h3>About the Authors:</h3>  \n",
        "<p><a href=\"https://www.linkedin.com/in/joseph-s-50398b136/\" target=\"_blank\">Joseph Santarcangelo</a> is a Data Scientist at IBM, and holds a PhD in Electrical Engineering. His research focused on using Machine Learning, Signal Processing, and Computer Vision to determine how videos impact human cognition. Joseph has been working for IBM since he completed his PhD.</p>"
      ]
    },
    {
      "cell_type": "markdown",
      "metadata": {
        "id": "9IjT97rxOEcs",
        "colab_type": "text"
      },
      "source": [
        "Other contributors: <a href=\"www.linkedin.com/in/jiahui-mavis-zhou-a4537814a\">Mavis Zhou</a>"
      ]
    },
    {
      "cell_type": "markdown",
      "metadata": {
        "id": "CUEFgX4_OEct",
        "colab_type": "text"
      },
      "source": [
        "<hr>\n",
        "<p>Copyright &copy; 2018 IBM Developer Skills Network. This notebook and its source code are released under the terms of the <a href=\"https://cognitiveclass.ai/mit-license/\">MIT License</a>.</p>"
      ]
    }
  ]
}