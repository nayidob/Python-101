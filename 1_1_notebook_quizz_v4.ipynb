{
  "nbformat": 4,
  "nbformat_minor": 0,
  "metadata": {
    "kernelspec": {
      "display_name": "Python",
      "language": "python",
      "name": "conda-env-python-py"
    },
    "language_info": {
      "codemirror_mode": {
        "name": "ipython",
        "version": 3
      },
      "file_extension": ".py",
      "mimetype": "text/x-python",
      "name": "python",
      "nbconvert_exporter": "python",
      "pygments_lexer": "ipython3",
      "version": "3.6.7"
    },
    "colab": {
      "name": "1.1_notebook_quizz_v4.ipynb",
      "provenance": [],
      "include_colab_link": true
    }
  },
  "cells": [
    {
      "cell_type": "markdown",
      "metadata": {
        "id": "view-in-github",
        "colab_type": "text"
      },
      "source": [
        "<a href=\"https://colab.research.google.com/github/nayidob/Python-for-Data-Science-PY0101EN/blob/master/1_1_notebook_quizz_v4.ipynb\" target=\"_parent\"><img src=\"https://colab.research.google.com/assets/colab-badge.svg\" alt=\"Open In Colab\"/></a>"
      ]
    },
    {
      "cell_type": "markdown",
      "metadata": {
        "id": "YimqoVohKFOM",
        "colab_type": "text"
      },
      "source": [
        "<h3 align=center>Hello World</h3>"
      ]
    },
    {
      "cell_type": "markdown",
      "metadata": {
        "id": "e4R0LPKdKFOQ",
        "colab_type": "text"
      },
      "source": [
        "Let's say Hello to the world with a <code>PRINT</code> statement. E.g. <code>print(\"Hello World\")</code>. Why not give it a try put in a print statement in the cell bellow. Don't forget to do <kbd>shift</kbd>+<kbd>enter</kbd> to run the cell:"
      ]
    },
    {
      "cell_type": "code",
      "metadata": {
        "id": "Pno1Nt51KFOT",
        "colab_type": "code",
        "colab": {}
      },
      "source": [
        ""
      ],
      "execution_count": 0,
      "outputs": []
    },
    {
      "cell_type": "markdown",
      "metadata": {
        "id": "HzlTEo_cKFOh",
        "colab_type": "text"
      },
      "source": [
        "<h3 align=center>Say Hello World on two lines</h3> "
      ]
    },
    {
      "cell_type": "markdown",
      "metadata": {
        "id": "gwQVeBTUKFOj",
        "colab_type": "text"
      },
      "source": [
        "Let's print Hello and World on two separate lines. Hint: \\n in the middle of the string acts as a new line character. E.g. <code>print(\"line 1\\nline 2\")</code>. Let's try it now. Type in a print statement in the cell bellow. Don't forget to do <kbd>shift</kbd>+<kbd>enter</kbd> to run the cell:"
      ]
    },
    {
      "cell_type": "code",
      "metadata": {
        "id": "pkK9j4G7KFOk",
        "colab_type": "code",
        "colab": {}
      },
      "source": [
        ""
      ],
      "execution_count": 0,
      "outputs": []
    },
    {
      "cell_type": "markdown",
      "metadata": {
        "id": "eesMng8uKFOp",
        "colab_type": "text"
      },
      "source": [
        "<h3 align=center>Comments are key to good coding</h3> "
      ]
    },
    {
      "cell_type": "markdown",
      "metadata": {
        "id": "bfwVZqFmKFOq",
        "colab_type": "text"
      },
      "source": [
        "In python, comments are created by putting a hash mark <code>#</code> in front of the text of the comment. E.g. <code># this is a comment</code>"
      ]
    },
    {
      "cell_type": "code",
      "metadata": {
        "jupyter": {
          "outputs_hidden": false
        },
        "id": "nj9OCrfhKFOr",
        "colab_type": "code",
        "colab": {}
      },
      "source": [
        ""
      ],
      "execution_count": 0,
      "outputs": []
    },
    {
      "cell_type": "markdown",
      "metadata": {
        "id": "e5_usuQgKFOy",
        "colab_type": "text"
      },
      "source": [
        "<hr>\n",
        "<small>Copyright &copy; 2018 IBM Cognitive Class. This notebook and its source code are released under the terms of the [MIT License](https://cognitiveclass.ai/mit-license/).</small>"
      ]
    }
  ]
}