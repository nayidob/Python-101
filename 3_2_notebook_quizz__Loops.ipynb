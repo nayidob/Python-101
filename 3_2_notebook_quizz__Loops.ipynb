{
  "nbformat": 4,
  "nbformat_minor": 0,
  "metadata": {
    "kernelspec": {
      "display_name": "Python 3",
      "language": "python",
      "name": "python3"
    },
    "language_info": {
      "codemirror_mode": {
        "name": "ipython",
        "version": 3
      },
      "file_extension": ".py",
      "mimetype": "text/x-python",
      "name": "python",
      "nbconvert_exporter": "python",
      "pygments_lexer": "ipython3",
      "version": "3.6.5"
    },
    "colab": {
      "name": "3.2_notebook_quizz__Loops.ipynb",
      "provenance": [],
      "include_colab_link": true
    }
  },
  "cells": [
    {
      "cell_type": "markdown",
      "metadata": {
        "id": "view-in-github",
        "colab_type": "text"
      },
      "source": [
        "<a href=\"https://colab.research.google.com/github/nayidob/Python-for-Data-Science-PY0101EN/blob/master/3_2_notebook_quizz__Loops.ipynb\" target=\"_parent\"><img src=\"https://colab.research.google.com/assets/colab-badge.svg\" alt=\"Open In Colab\"/></a>"
      ]
    },
    {
      "cell_type": "markdown",
      "metadata": {
        "id": "QkiGF7-QLEXh",
        "colab_type": "text"
      },
      "source": [
        "<h3 align=center>For Loops </h3> "
      ]
    },
    {
      "cell_type": "markdown",
      "metadata": {
        "id": "ZDoXPiTYLEXk",
        "colab_type": "text"
      },
      "source": [
        "Use loops to print out the elements in the list <code>A</code>"
      ]
    },
    {
      "cell_type": "code",
      "metadata": {
        "id": "45tgoqaPLEXm",
        "colab_type": "code",
        "colab": {}
      },
      "source": [
        "A=[1,2,3,4,5]"
      ],
      "execution_count": 0,
      "outputs": []
    },
    {
      "cell_type": "markdown",
      "metadata": {
        "id": "rn-XNXyzLEXu",
        "colab_type": "text"
      },
      "source": [
        "<h3 align=center>While Loops</h3> "
      ]
    },
    {
      "cell_type": "markdown",
      "metadata": {
        "id": "1PC9mJDQLEXv",
        "colab_type": "text"
      },
      "source": [
        "Find the value of <code> x </code> that will print out the sequence <code> 1,2,..,10 </code>"
      ]
    },
    {
      "cell_type": "code",
      "metadata": {
        "id": "zZiKu2NCLEXw",
        "colab_type": "code",
        "colab": {}
      },
      "source": [
        "x=\n",
        "y=1\n",
        "while(y< x):\n",
        "    print(y)\n",
        "    y=y+1"
      ],
      "execution_count": 0,
      "outputs": []
    },
    {
      "cell_type": "markdown",
      "metadata": {
        "id": "vG0X01t9LEX1",
        "colab_type": "text"
      },
      "source": [
        "<hr>\n",
        "<small>Copyright &copy; 2018 IBM Cognitive Class. This notebook and its source code are released under the terms of the [MIT License](https://cognitiveclass.ai/mit-license/).</small>"
      ]
    }
  ]
}