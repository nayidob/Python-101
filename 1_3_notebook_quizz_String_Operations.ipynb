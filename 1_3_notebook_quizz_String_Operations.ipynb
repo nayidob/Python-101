{
  "nbformat": 4,
  "nbformat_minor": 0,
  "metadata": {
    "kernelspec": {
      "display_name": "Python 3",
      "language": "python",
      "name": "python3"
    },
    "language_info": {
      "codemirror_mode": {
        "name": "ipython",
        "version": 3
      },
      "file_extension": ".py",
      "mimetype": "text/x-python",
      "name": "python",
      "nbconvert_exporter": "python",
      "pygments_lexer": "ipython3",
      "version": "3.6.5"
    },
    "colab": {
      "name": "1.3_notebook_quizz_String_Operations.ipynb",
      "provenance": [],
      "include_colab_link": true
    }
  },
  "cells": [
    {
      "cell_type": "markdown",
      "metadata": {
        "id": "view-in-github",
        "colab_type": "text"
      },
      "source": [
        "<a href=\"https://colab.research.google.com/github/nayidob/Python-for-Data-Science-PY0101EN/blob/master/1_3_notebook_quizz_String_Operations.ipynb\" target=\"_parent\"><img src=\"https://colab.research.google.com/assets/colab-badge.svg\" alt=\"Open In Colab\"/></a>"
      ]
    },
    {
      "cell_type": "markdown",
      "metadata": {
        "id": "T5-GJfq-KZym",
        "colab_type": "text"
      },
      "source": [
        "<h3 align=center>Slicing </h3>"
      ]
    },
    {
      "cell_type": "markdown",
      "metadata": {
        "id": "S23y2cD_KZyo",
        "colab_type": "text"
      },
      "source": [
        "Use slicing to find the first four elements of the following string:"
      ]
    },
    {
      "cell_type": "code",
      "metadata": {
        "id": "QTayiGkcKZys",
        "colab_type": "code",
        "colab": {}
      },
      "source": [
        "Letters=\"ABCDEFGHIJK\""
      ],
      "execution_count": 0,
      "outputs": []
    },
    {
      "cell_type": "markdown",
      "metadata": {
        "id": "SjcJZKkLKZyy",
        "colab_type": "text"
      },
      "source": [
        "<h3 align=center>Strides are Good </h3> "
      ]
    },
    {
      "cell_type": "markdown",
      "metadata": {
        "id": "X7bz7xTtKZyz",
        "colab_type": "text"
      },
      "source": [
        "Use a stride value of two on the following string :"
      ]
    },
    {
      "cell_type": "code",
      "metadata": {
        "id": "24ceok8lKZy0",
        "colab_type": "code",
        "colab": {}
      },
      "source": [
        "Good=\"GsoAo+d\""
      ],
      "execution_count": 0,
      "outputs": []
    },
    {
      "cell_type": "markdown",
      "metadata": {
        "id": "iuxKApo_KZy5",
        "colab_type": "text"
      },
      "source": [
        "<h3 align=center>uppercase to UPPERCASE </h3> "
      ]
    },
    {
      "cell_type": "markdown",
      "metadata": {
        "id": "0xumLnczKZy6",
        "colab_type": "text"
      },
      "source": [
        "Convert the following string to uppercase using the method <code>upper()</code>"
      ]
    },
    {
      "cell_type": "code",
      "metadata": {
        "id": "AXn1JrQBKZy8",
        "colab_type": "code",
        "colab": {}
      },
      "source": [
        "\"uppercase\""
      ],
      "execution_count": 0,
      "outputs": []
    },
    {
      "cell_type": "markdown",
      "metadata": {
        "id": "EJJY8W86KZzA",
        "colab_type": "text"
      },
      "source": [
        "<hr>\n",
        "<small>Copyright &copy; 2018 IBM Cognitive Class. This notebook and its source code are released under the terms of the [MIT License](https://cognitiveclass.ai/mit-license/).</small>"
      ]
    }
  ]
}