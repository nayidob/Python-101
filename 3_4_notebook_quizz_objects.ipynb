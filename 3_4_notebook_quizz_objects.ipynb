{
  "nbformat": 4,
  "nbformat_minor": 0,
  "metadata": {
    "kernelspec": {
      "display_name": "Python 3",
      "language": "python",
      "name": "python3"
    },
    "language_info": {
      "codemirror_mode": {
        "name": "ipython",
        "version": 3
      },
      "file_extension": ".py",
      "mimetype": "text/x-python",
      "name": "python",
      "nbconvert_exporter": "python",
      "pygments_lexer": "ipython3",
      "version": "3.6.5"
    },
    "colab": {
      "name": "3.4_notebook_quizz_objects.ipynb",
      "provenance": [],
      "include_colab_link": true
    }
  },
  "cells": [
    {
      "cell_type": "markdown",
      "metadata": {
        "id": "view-in-github",
        "colab_type": "text"
      },
      "source": [
        "<a href=\"https://colab.research.google.com/github/nayidob/Python-for-Data-Science-PY0101EN/blob/master/3_4_notebook_quizz_objects.ipynb\" target=\"_parent\"><img src=\"https://colab.research.google.com/assets/colab-badge.svg\" alt=\"Open In Colab\"/></a>"
      ]
    },
    {
      "cell_type": "markdown",
      "metadata": {
        "id": "16dVD23HLSGD",
        "colab_type": "text"
      },
      "source": [
        "You will need the class Car for the next exercises. The class Car has four data attributes: make, model, colour and number of owners (owner_number). The method <code> car_info() </code>  prints out the data attributes and the method <code>sell()</code> increments the number of owners. "
      ]
    },
    {
      "cell_type": "code",
      "metadata": {
        "id": "3gizyalnLSGE",
        "colab_type": "code",
        "colab": {}
      },
      "source": [
        "class Car(object):\n",
        "    def __init__(self,make,model,color):\n",
        "        self.make=make;\n",
        "        self.model=model;\n",
        "        self.color=color;\n",
        "        self.owner_number=0 \n",
        "    def car_info(self):\n",
        "        print(\"make: \",self.make)\n",
        "        print(\"model:\", self.model)\n",
        "        print(\"color:\",self.color)\n",
        "        print(\"number of owners:\",self.owner_number)\n",
        "    def sell(self):\n",
        "        self.owner_number=self.owner_number+1"
      ],
      "execution_count": 0,
      "outputs": []
    },
    {
      "cell_type": "markdown",
      "metadata": {
        "id": "9_1hMwkoLSGJ",
        "colab_type": "text"
      },
      "source": [
        "<h3> Create a Car object </h3>"
      ]
    },
    {
      "cell_type": "markdown",
      "metadata": {
        "id": "NPsaszTTLSGK",
        "colab_type": "text"
      },
      "source": [
        "Create a <code> Car </code> object my_car with the given data attributes: "
      ]
    },
    {
      "cell_type": "code",
      "metadata": {
        "id": "xLEZ1nCtLSGL",
        "colab_type": "code",
        "colab": {}
      },
      "source": [
        "make=\"BMW\"\n",
        "model=\"M3\"\n",
        "color=\"red\"\n"
      ],
      "execution_count": 0,
      "outputs": []
    },
    {
      "cell_type": "markdown",
      "metadata": {
        "id": "_R_J7T8rLSGP",
        "colab_type": "text"
      },
      "source": [
        "<h3> Data Attributes </h3>"
      ]
    },
    {
      "cell_type": "markdown",
      "metadata": {
        "id": "Lr-5cQKnLSGQ",
        "colab_type": "text"
      },
      "source": [
        "Use the method car_info() to print out the data attributes"
      ]
    },
    {
      "cell_type": "code",
      "metadata": {
        "id": "2QxSFp2aLSGR",
        "colab_type": "code",
        "colab": {}
      },
      "source": [
        ""
      ],
      "execution_count": 0,
      "outputs": []
    },
    {
      "cell_type": "markdown",
      "metadata": {
        "id": "4IzpyCkuLSGV",
        "colab_type": "text"
      },
      "source": [
        "<h3> Methods  </h3>"
      ]
    },
    {
      "cell_type": "markdown",
      "metadata": {
        "id": "gtI6L2Q1LSGV",
        "colab_type": "text"
      },
      "source": [
        "Call the method <code> sell() </code> in the loop, then call the method <code> car_info()</code> again "
      ]
    },
    {
      "cell_type": "code",
      "metadata": {
        "id": "i7I-X9nPLSGW",
        "colab_type": "code",
        "colab": {}
      },
      "source": [
        "for i in range(5):\n",
        "    \n"
      ],
      "execution_count": 0,
      "outputs": []
    },
    {
      "cell_type": "markdown",
      "metadata": {
        "id": "MHP62WJYLSGc",
        "colab_type": "text"
      },
      "source": [
        "<hr>\n",
        "<small>Copyright &copy; 2018 IBM Cognitive Class. This notebook and its source code are released under the terms of the [MIT License](https://cognitiveclass.ai/mit-license/).</small>"
      ]
    }
  ]
}