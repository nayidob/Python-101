{
  "nbformat": 4,
  "nbformat_minor": 0,
  "metadata": {
    "kernelspec": {
      "display_name": "Python 3",
      "language": "python",
      "name": "python3"
    },
    "language_info": {
      "codemirror_mode": {
        "name": "ipython",
        "version": 3
      },
      "file_extension": ".py",
      "mimetype": "text/x-python",
      "name": "python",
      "nbconvert_exporter": "python",
      "pygments_lexer": "ipython3",
      "version": "3.6.5"
    },
    "colab": {
      "name": "5.1_notebook_quizz_numpy1d.ipynb",
      "provenance": [],
      "include_colab_link": true
    }
  },
  "cells": [
    {
      "cell_type": "markdown",
      "metadata": {
        "id": "view-in-github",
        "colab_type": "text"
      },
      "source": [
        "<a href=\"https://colab.research.google.com/github/nayidob/Python-for-Data-Science-PY0101EN/blob/master/5_1_notebook_quizz_numpy1d.ipynb\" target=\"_parent\"><img src=\"https://colab.research.google.com/assets/colab-badge.svg\" alt=\"Open In Colab\"/></a>"
      ]
    },
    {
      "cell_type": "markdown",
      "metadata": {
        "id": "o_koaUK2Leky",
        "colab_type": "text"
      },
      "source": [
        "<h3> Get to Know a numpy Array </h3>"
      ]
    },
    {
      "cell_type": "markdown",
      "metadata": {
        "id": "OO0MMTJ8Lekz",
        "colab_type": "text"
      },
      "source": [
        "cast the following list to a numpy array:"
      ]
    },
    {
      "cell_type": "code",
      "metadata": {
        "id": "9elwuirWLek0",
        "colab_type": "code",
        "colab": {}
      },
      "source": [
        "import numpy as np\n",
        "a=[1,2,3,4,5]\n",
        "\n"
      ],
      "execution_count": 0,
      "outputs": []
    },
    {
      "cell_type": "markdown",
      "metadata": {
        "id": "9FUXvJbrLek5",
        "colab_type": "text"
      },
      "source": [
        "1) type using the function type "
      ]
    },
    {
      "cell_type": "code",
      "metadata": {
        "id": "uXrnrWKxLek6",
        "colab_type": "code",
        "colab": {}
      },
      "source": [
        ""
      ],
      "execution_count": 0,
      "outputs": []
    },
    {
      "cell_type": "markdown",
      "metadata": {
        "id": "A3GwSlSVLek9",
        "colab_type": "text"
      },
      "source": [
        "2) the shape of the array "
      ]
    },
    {
      "cell_type": "code",
      "metadata": {
        "id": "3XSH6ddkLek-",
        "colab_type": "code",
        "colab": {}
      },
      "source": [
        ""
      ],
      "execution_count": 0,
      "outputs": []
    },
    {
      "cell_type": "markdown",
      "metadata": {
        "id": "ikBqzokSLelC",
        "colab_type": "text"
      },
      "source": [
        "3) the type of data in the array "
      ]
    },
    {
      "cell_type": "code",
      "metadata": {
        "id": "i7LvPtzoLelD",
        "colab_type": "code",
        "colab": {}
      },
      "source": [
        ""
      ],
      "execution_count": 0,
      "outputs": []
    },
    {
      "cell_type": "markdown",
      "metadata": {
        "id": "TGiKZR9RLelH",
        "colab_type": "text"
      },
      "source": [
        "4) find the mean of the array "
      ]
    },
    {
      "cell_type": "code",
      "metadata": {
        "id": "HNTtUKJYLelI",
        "colab_type": "code",
        "colab": {}
      },
      "source": [
        ""
      ],
      "execution_count": 0,
      "outputs": []
    },
    {
      "cell_type": "markdown",
      "metadata": {
        "id": "3P5PZ2UKLelM",
        "colab_type": "text"
      },
      "source": [
        "<h3> Creating and Plotting Functions  </h3>"
      ]
    },
    {
      "cell_type": "markdown",
      "metadata": {
        "id": "xK1LXkakLelN",
        "colab_type": "text"
      },
      "source": [
        "1) create the following functions using the numpy array <code> x </code>"
      ]
    },
    {
      "cell_type": "markdown",
      "metadata": {
        "id": "uu24GwdyLelO",
        "colab_type": "text"
      },
      "source": [
        "$$y=sin(x)+2$$"
      ]
    },
    {
      "cell_type": "code",
      "metadata": {
        "id": "vxACLs51LelR",
        "colab_type": "code",
        "colab": {}
      },
      "source": [
        "x=np.linspace(0,2*np.pi,100)\n"
      ],
      "execution_count": 0,
      "outputs": []
    },
    {
      "cell_type": "markdown",
      "metadata": {
        "id": "jSOiixpeLelZ",
        "colab_type": "text"
      },
      "source": [
        "2)  plot the function"
      ]
    },
    {
      "cell_type": "code",
      "metadata": {
        "id": "DKbxxhNILela",
        "colab_type": "code",
        "colab": {}
      },
      "source": [
        "import matplotlib.pyplot as plt\n",
        "%matplotlib inline  \n",
        "\n",
        "\n"
      ],
      "execution_count": 0,
      "outputs": []
    },
    {
      "cell_type": "markdown",
      "metadata": {
        "id": "rYDMsz18Lele",
        "colab_type": "text"
      },
      "source": [
        "<hr>\n",
        "<small>Copyright &copy; 2018 IBM Cognitive Class. This notebook and its source code are released under the terms of the [MIT License](https://cognitiveclass.ai/mit-license/).</small>"
      ]
    }
  ]
}