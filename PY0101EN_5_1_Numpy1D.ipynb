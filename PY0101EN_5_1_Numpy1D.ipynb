{
  "nbformat": 4,
  "nbformat_minor": 0,
  "metadata": {
    "kernelspec": {
      "display_name": "Python",
      "language": "python",
      "name": "conda-env-python-py"
    },
    "language_info": {
      "codemirror_mode": {
        "name": "ipython",
        "version": 3
      },
      "file_extension": ".py",
      "mimetype": "text/x-python",
      "name": "python",
      "nbconvert_exporter": "python",
      "pygments_lexer": "ipython3",
      "version": "3.6.10"
    },
    "colab": {
      "name": "PY0101EN-5-1-Numpy1D.ipynb",
      "provenance": [],
      "include_colab_link": true
    }
  },
  "cells": [
    {
      "cell_type": "markdown",
      "metadata": {
        "id": "view-in-github",
        "colab_type": "text"
      },
      "source": [
        "<a href=\"https://colab.research.google.com/github/nayidob/Python-for-Data-Science-PY0101EN/blob/master/PY0101EN_5_1_Numpy1D.ipynb\" target=\"_parent\"><img src=\"https://colab.research.google.com/assets/colab-badge.svg\" alt=\"Open In Colab\"/></a>"
      ]
    },
    {
      "cell_type": "markdown",
      "metadata": {
        "id": "h2vGV--_Pghc",
        "colab_type": "text"
      },
      "source": [
        "<a href=\"https://cognitiveclass.ai/\">\n",
        "    <img src=\"https://s3-api.us-geo.objectstorage.softlayer.net/cf-courses-data/CognitiveClass/PY0101EN/Ad/CCLog.png\" width=\"200\" align=\"center\">\n",
        "</a>"
      ]
    },
    {
      "cell_type": "markdown",
      "metadata": {
        "id": "QTruA0MWPghd",
        "colab_type": "text"
      },
      "source": [
        "<h1>1D <code>Numpy</code> in Python</h1>"
      ]
    },
    {
      "cell_type": "markdown",
      "metadata": {
        "id": "My4Oje9bPghe",
        "colab_type": "text"
      },
      "source": [
        "<p><strong>Welcome!</strong> This notebook will teach you about using <code>Numpy</code> in the Python Programming Language. By the end of this lab, you'll know what <code>Numpy</code> is and the <code>Numpy</code> operations.</p>"
      ]
    },
    {
      "cell_type": "markdown",
      "metadata": {
        "id": "OnXDmkE2Pghg",
        "colab_type": "text"
      },
      "source": [
        "<div class=\"alert alert-block alert-info\" style=\"margin-top: 20px\">\n",
        "    <a href=\"https://cocl.us/NotebooksPython101\">\n",
        "         <img src=\"https://s3-api.us-geo.objectstorage.softlayer.net/cf-courses-data/CognitiveClass/PY0101EN/Ad/TopAd.png\" width=\"750\" align=\"center\">\n",
        "    </a>\n",
        "</div>"
      ]
    },
    {
      "cell_type": "markdown",
      "metadata": {
        "id": "vze8mNH5Pghh",
        "colab_type": "text"
      },
      "source": [
        "<h2>Table of Contents</h2>\n",
        "<div class=\"alert alert-block alert-info\" style=\"margin-top: 20px\">\n",
        "    <ul>\n",
        "        <li><a href=\"pre\">Preparation</a></li>\n",
        "        <li>\n",
        "            <a href=\"numpy\">What is Numpy?</a>\n",
        "            <ul>\n",
        "                <li><a href=\"type\">Type</a></li>\n",
        "                <li><a href=\"val\">Assign Value</a></li>\n",
        "                <li><a href=\"slice\">Slicing</a></li>\n",
        "                <li><a href=\"list\">Assign Value with List</a></li>\n",
        "                <li><a href=\"other\">Other Attributes</a></li>\n",
        "            </ul>\n",
        "        </li>\n",
        "        <li>\n",
        "            <a href=\"op\">Numpy Array Operations</a>\n",
        "            <ul>\n",
        "                <li><a href=\"add\">Array Addition</a></li>\n",
        "                <li><a href=\"multi\">Array Multiplication</a></li>\n",
        "                <li><a href=\"prod\">Product of Two Numpy Arrays</a></li>\n",
        "                <li><a href=\"dot\">Dot Product</a></li>\n",
        "                <li><a href=\"cons\">Adding Constant to a Numpy Array</a></li>\n",
        "            </ul>\n",
        "        </li>\n",
        "        <li><a href=\"math\">Mathematical Functions</a></li>\n",
        "        <li><a href=\"lin\">Linspace</a></li>\n",
        "    </ul>\n",
        "    <p>\n",
        "        Estimated time needed: <strong>30 min</strong>\n",
        "    </p>\n",
        "</div>\n",
        "\n",
        "<hr>"
      ]
    },
    {
      "cell_type": "markdown",
      "metadata": {
        "id": "W2W6PM9uPghi",
        "colab_type": "text"
      },
      "source": [
        "<h2 id=\"pre\">Preparation</h2>"
      ]
    },
    {
      "cell_type": "code",
      "metadata": {
        "jupyter": {
          "outputs_hidden": true
        },
        "id": "2WzbbXnWPghj",
        "colab_type": "code",
        "colab": {}
      },
      "source": [
        "# Import the libraries\n",
        "\n",
        "import time \n",
        "import sys\n",
        "import numpy as np \n",
        "\n",
        "import matplotlib.pyplot as plt\n",
        "%matplotlib inline  "
      ],
      "execution_count": 0,
      "outputs": []
    },
    {
      "cell_type": "code",
      "metadata": {
        "jupyter": {
          "outputs_hidden": false
        },
        "id": "dSVtWb3yPghq",
        "colab_type": "code",
        "colab": {}
      },
      "source": [
        "# Plotting functions\n",
        "\n",
        "def Plotvec1(u, z, v):\n",
        "    \n",
        "    ax = plt.axes()\n",
        "    ax.arrow(0, 0, *u, head_width=0.05, color='r', head_length=0.1)\n",
        "    plt.text(*(u + 0.1), 'u')\n",
        "    \n",
        "    ax.arrow(0, 0, *v, head_width=0.05, color='b', head_length=0.1)\n",
        "    plt.text(*(v + 0.1), 'v')\n",
        "    ax.arrow(0, 0, *z, head_width=0.05, head_length=0.1)\n",
        "    plt.text(*(z + 0.1), 'z')\n",
        "    plt.ylim(-2, 2)\n",
        "    plt.xlim(-2, 2)\n",
        "\n",
        "def Plotvec2(a,b):\n",
        "    ax = plt.axes()\n",
        "    ax.arrow(0, 0, *a, head_width=0.05, color ='r', head_length=0.1)\n",
        "    plt.text(*(a + 0.1), 'a')\n",
        "    ax.arrow(0, 0, *b, head_width=0.05, color ='b', head_length=0.1)\n",
        "    plt.text(*(b + 0.1), 'b')\n",
        "    plt.ylim(-2, 2)\n",
        "    plt.xlim(-2, 2)"
      ],
      "execution_count": 0,
      "outputs": []
    },
    {
      "cell_type": "markdown",
      "metadata": {
        "id": "k15e4kB2Pghw",
        "colab_type": "text"
      },
      "source": [
        "Create a Python List as follows:"
      ]
    },
    {
      "cell_type": "code",
      "metadata": {
        "jupyter": {
          "outputs_hidden": false
        },
        "id": "NJZbVkGvPghx",
        "colab_type": "code",
        "colab": {}
      },
      "source": [
        "# Create a python list\n",
        "\n",
        "a = [\"0\", 1, \"two\", \"3\", 4]"
      ],
      "execution_count": 0,
      "outputs": []
    },
    {
      "cell_type": "markdown",
      "metadata": {
        "id": "Oi6gxbWwPgh2",
        "colab_type": "text"
      },
      "source": [
        "We can access the data via an index:"
      ]
    },
    {
      "cell_type": "markdown",
      "metadata": {
        "id": "dy6stY13Pgh3",
        "colab_type": "text"
      },
      "source": [
        "<img src=\"https://s3-api.us-geo.objectstorage.softlayer.net/cf-courses-data/CognitiveClass/PY0101EN/Chapter%205/Images/NumOneList.png\" width=\"660\" />"
      ]
    },
    {
      "cell_type": "markdown",
      "metadata": {
        "id": "wq954WTyPgh4",
        "colab_type": "text"
      },
      "source": [
        "We can access each element using a square bracket as follows: "
      ]
    },
    {
      "cell_type": "code",
      "metadata": {
        "jupyter": {
          "outputs_hidden": false
        },
        "id": "T4Syy0AyPgh6",
        "colab_type": "code",
        "colab": {}
      },
      "source": [
        "# Print each element\n",
        "\n",
        "print(\"a[0]:\", a[0])\n",
        "print(\"a[1]:\", a[1])\n",
        "print(\"a[2]:\", a[2])\n",
        "print(\"a[3]:\", a[3])\n",
        "print(\"a[4]:\", a[4])"
      ],
      "execution_count": 0,
      "outputs": []
    },
    {
      "cell_type": "markdown",
      "metadata": {
        "id": "Ud4OCqyhPgh_",
        "colab_type": "text"
      },
      "source": [
        "<hr>"
      ]
    },
    {
      "cell_type": "markdown",
      "metadata": {
        "id": "cruL3nX-PgiA",
        "colab_type": "text"
      },
      "source": [
        "<h2 id=\"numpy\">What is Numpy?</h2>"
      ]
    },
    {
      "cell_type": "markdown",
      "metadata": {
        "id": "ogZouTxXPgiB",
        "colab_type": "text"
      },
      "source": [
        "A numpy array is similar to a list. It's usually fixed in size and each element is of the same type. We can cast a list to a numpy array by first importing numpy: "
      ]
    },
    {
      "cell_type": "code",
      "metadata": {
        "jupyter": {
          "outputs_hidden": false
        },
        "id": "bNifqnhXPgiC",
        "colab_type": "code",
        "colab": {}
      },
      "source": [
        "# import numpy library\n",
        "\n",
        "import numpy as np "
      ],
      "execution_count": 0,
      "outputs": []
    },
    {
      "cell_type": "markdown",
      "metadata": {
        "id": "bPmIPjD_PgiI",
        "colab_type": "text"
      },
      "source": [
        " We then cast the list as follows:"
      ]
    },
    {
      "cell_type": "code",
      "metadata": {
        "jupyter": {
          "outputs_hidden": false
        },
        "id": "upg3EjEhPgiJ",
        "colab_type": "code",
        "colab": {}
      },
      "source": [
        "# Create a numpy array\n",
        "\n",
        "a = np.array([0, 1, 2, 3, 4])\n",
        "a"
      ],
      "execution_count": 0,
      "outputs": []
    },
    {
      "cell_type": "markdown",
      "metadata": {
        "id": "J33ZLOnhPgiO",
        "colab_type": "text"
      },
      "source": [
        "Each element is of the same type, in this case integers: "
      ]
    },
    {
      "cell_type": "markdown",
      "metadata": {
        "id": "f4LqNxnIPgiP",
        "colab_type": "text"
      },
      "source": [
        "<img src=\"https://s3-api.us-geo.objectstorage.softlayer.net/cf-courses-data/CognitiveClass/PY0101EN/Chapter%205/Images/NumOneNp.png\" width=\"500\" />"
      ]
    },
    {
      "cell_type": "markdown",
      "metadata": {
        "id": "LuvSnf9oPgiQ",
        "colab_type": "text"
      },
      "source": [
        " As with lists, we can access each element via a square bracket:"
      ]
    },
    {
      "cell_type": "code",
      "metadata": {
        "jupyter": {
          "outputs_hidden": false
        },
        "id": "BPcNUtAkPgiR",
        "colab_type": "code",
        "colab": {}
      },
      "source": [
        "# Print each element\n",
        "\n",
        "print(\"a[0]:\", a[0])\n",
        "print(\"a[1]:\", a[1])\n",
        "print(\"a[2]:\", a[2])\n",
        "print(\"a[3]:\", a[3])\n",
        "print(\"a[4]:\", a[4])"
      ],
      "execution_count": 0,
      "outputs": []
    },
    {
      "cell_type": "markdown",
      "metadata": {
        "id": "E2m6PGEIPgiW",
        "colab_type": "text"
      },
      "source": [
        "<h3 id=\"type\">Type</h3>"
      ]
    },
    {
      "cell_type": "markdown",
      "metadata": {
        "id": "9nVpF8MBPgiW",
        "colab_type": "text"
      },
      "source": [
        "If we check the type of the array we get <b>numpy.ndarray</b>:"
      ]
    },
    {
      "cell_type": "code",
      "metadata": {
        "jupyter": {
          "outputs_hidden": false
        },
        "id": "W64JXL62Pgia",
        "colab_type": "code",
        "colab": {}
      },
      "source": [
        "# Check the type of the array\n",
        "\n",
        "type(a)"
      ],
      "execution_count": 0,
      "outputs": []
    },
    {
      "cell_type": "markdown",
      "metadata": {
        "id": "OODwnxzyPgig",
        "colab_type": "text"
      },
      "source": [
        "As numpy arrays contain data of the same type, we can use the attribute \"dtype\" to obtain the Data-type of the array’s elements. In this case a 64-bit integer: \n"
      ]
    },
    {
      "cell_type": "code",
      "metadata": {
        "jupyter": {
          "outputs_hidden": false
        },
        "id": "G1nhdIUaPgih",
        "colab_type": "code",
        "colab": {}
      },
      "source": [
        "# Check the type of the values stored in numpy array\n",
        "\n",
        "a.dtype"
      ],
      "execution_count": 0,
      "outputs": []
    },
    {
      "cell_type": "markdown",
      "metadata": {
        "id": "V9derIvSPgil",
        "colab_type": "text"
      },
      "source": [
        "We can create a numpy array with real numbers:"
      ]
    },
    {
      "cell_type": "code",
      "metadata": {
        "jupyter": {
          "outputs_hidden": false
        },
        "id": "8MCA8AQrPgim",
        "colab_type": "code",
        "colab": {}
      },
      "source": [
        "# Create a numpy array\n",
        "\n",
        "b = np.array([3.1, 11.02, 6.2, 213.2, 5.2])"
      ],
      "execution_count": 0,
      "outputs": []
    },
    {
      "cell_type": "markdown",
      "metadata": {
        "id": "px7o6-zRPgiq",
        "colab_type": "text"
      },
      "source": [
        "When we check the type of the array we get <b>numpy.ndarray</b>:"
      ]
    },
    {
      "cell_type": "code",
      "metadata": {
        "jupyter": {
          "outputs_hidden": false
        },
        "id": "hdQm2zTXPgir",
        "colab_type": "code",
        "colab": {}
      },
      "source": [
        "# Check the type of array\n",
        "\n",
        "type(b)"
      ],
      "execution_count": 0,
      "outputs": []
    },
    {
      "cell_type": "markdown",
      "metadata": {
        "id": "q0O66OA0Pgiv",
        "colab_type": "text"
      },
      "source": [
        "If we examine the attribute <code>dtype</code> we see float 64, as the elements are not integers: "
      ]
    },
    {
      "cell_type": "code",
      "metadata": {
        "jupyter": {
          "outputs_hidden": false
        },
        "id": "u1wPdE1dPgiv",
        "colab_type": "code",
        "colab": {}
      },
      "source": [
        "# Check the value type\n",
        "\n",
        "b.dtype"
      ],
      "execution_count": 0,
      "outputs": []
    },
    {
      "cell_type": "markdown",
      "metadata": {
        "id": "v9_54kHtPgi2",
        "colab_type": "text"
      },
      "source": [
        "<h3 id=\"val\">Assign value</h3>"
      ]
    },
    {
      "cell_type": "markdown",
      "metadata": {
        "id": "CjVMAFRYPgi3",
        "colab_type": "text"
      },
      "source": [
        "We can change the value of the array, consider the array <code>c</code>:"
      ]
    },
    {
      "cell_type": "code",
      "metadata": {
        "jupyter": {
          "outputs_hidden": false
        },
        "id": "2QeXr6Z4Pgi3",
        "colab_type": "code",
        "colab": {}
      },
      "source": [
        "# Create numpy array\n",
        "\n",
        "c = np.array([20, 1, 2, 3, 4])\n",
        "c"
      ],
      "execution_count": 0,
      "outputs": []
    },
    {
      "cell_type": "markdown",
      "metadata": {
        "id": "pBfE9Z-wPgi7",
        "colab_type": "text"
      },
      "source": [
        "We can change the first element of the array to 100 as follows:"
      ]
    },
    {
      "cell_type": "code",
      "metadata": {
        "jupyter": {
          "outputs_hidden": false
        },
        "id": "sSH30N2ZPgi8",
        "colab_type": "code",
        "colab": {}
      },
      "source": [
        "# Assign the first element to 100\n",
        "\n",
        "c[0] = 100\n",
        "c"
      ],
      "execution_count": 0,
      "outputs": []
    },
    {
      "cell_type": "markdown",
      "metadata": {
        "id": "nNc8Nda5PgjA",
        "colab_type": "text"
      },
      "source": [
        "We can change the 5th element of the array to 0 as follows:"
      ]
    },
    {
      "cell_type": "code",
      "metadata": {
        "jupyter": {
          "outputs_hidden": false
        },
        "id": "ZXGGTDubPgjB",
        "colab_type": "code",
        "colab": {}
      },
      "source": [
        "# Assign the 5th element to 0\n",
        "\n",
        "c[4] = 0\n",
        "c"
      ],
      "execution_count": 0,
      "outputs": []
    },
    {
      "cell_type": "markdown",
      "metadata": {
        "id": "Pkt_JbWvPgjF",
        "colab_type": "text"
      },
      "source": [
        "<h3 id=\"slice\">Slicing</h3>"
      ]
    },
    {
      "cell_type": "markdown",
      "metadata": {
        "id": "havJH17LPgjG",
        "colab_type": "text"
      },
      "source": [
        "Like lists, we can slice the numpy array, and we can select the elements from 1 to 3 and assign it to a new numpy array <code>d</code> as follows:"
      ]
    },
    {
      "cell_type": "code",
      "metadata": {
        "jupyter": {
          "outputs_hidden": false
        },
        "id": "qLWcxW95PgjG",
        "colab_type": "code",
        "colab": {}
      },
      "source": [
        "# Slicing the numpy array\n",
        "\n",
        "d = c[1:4]\n",
        "d"
      ],
      "execution_count": 0,
      "outputs": []
    },
    {
      "cell_type": "markdown",
      "metadata": {
        "id": "ykJ6dM16PgjK",
        "colab_type": "text"
      },
      "source": [
        "We can assign the corresponding indexes to  new values as follows: "
      ]
    },
    {
      "cell_type": "code",
      "metadata": {
        "jupyter": {
          "outputs_hidden": false
        },
        "id": "WT0chIfdPgjL",
        "colab_type": "code",
        "colab": {}
      },
      "source": [
        "# Set the fourth element and fifth element to 300 and 400\n",
        "\n",
        "c[3:5] = 300, 400\n",
        "c"
      ],
      "execution_count": 0,
      "outputs": []
    },
    {
      "cell_type": "markdown",
      "metadata": {
        "id": "imNi8vEUPgjO",
        "colab_type": "text"
      },
      "source": [
        "<h3 id=\"list\">Assign Value with List</h3>"
      ]
    },
    {
      "cell_type": "markdown",
      "metadata": {
        "id": "jDluQLs5PgjP",
        "colab_type": "text"
      },
      "source": [
        "Similarly, we can use a list to select a specific index.\n",
        "The list ' select ' contains several values:\n"
      ]
    },
    {
      "cell_type": "code",
      "metadata": {
        "jupyter": {
          "outputs_hidden": true
        },
        "id": "3KeN4XhePgjQ",
        "colab_type": "code",
        "colab": {}
      },
      "source": [
        "# Create the index list\n",
        "\n",
        "select = [0, 2, 3]"
      ],
      "execution_count": 0,
      "outputs": []
    },
    {
      "cell_type": "markdown",
      "metadata": {
        "id": "66NVWiQoPgjV",
        "colab_type": "text"
      },
      "source": [
        "We can use the list as an argument in the brackets. The output is the elements corresponding to the particular index:"
      ]
    },
    {
      "cell_type": "code",
      "metadata": {
        "jupyter": {
          "outputs_hidden": false
        },
        "id": "B6IaUXrlPgjW",
        "colab_type": "code",
        "colab": {}
      },
      "source": [
        "# Use List to select elements\n",
        "\n",
        "d = c[select]\n",
        "d"
      ],
      "execution_count": 0,
      "outputs": []
    },
    {
      "cell_type": "markdown",
      "metadata": {
        "id": "dqnPGdioPgjb",
        "colab_type": "text"
      },
      "source": [
        "We can assign the specified elements to a new value. For example, we can assign the values to 100 000 as follows:"
      ]
    },
    {
      "cell_type": "code",
      "metadata": {
        "jupyter": {
          "outputs_hidden": false
        },
        "id": "DjTDjpciPgjc",
        "colab_type": "code",
        "colab": {}
      },
      "source": [
        "# Assign the specified elements to new value\n",
        "\n",
        "c[select] = 100000\n",
        "c"
      ],
      "execution_count": 0,
      "outputs": []
    },
    {
      "cell_type": "markdown",
      "metadata": {
        "id": "yaw4El82Pgjg",
        "colab_type": "text"
      },
      "source": [
        "<h3 id=\"other\">Other Attributes</h3>"
      ]
    },
    {
      "cell_type": "markdown",
      "metadata": {
        "id": "STa7TaX_Pgjh",
        "colab_type": "text"
      },
      "source": [
        "Let's review some basic array attributes using the array <code>a</code>:"
      ]
    },
    {
      "cell_type": "code",
      "metadata": {
        "jupyter": {
          "outputs_hidden": false
        },
        "id": "GG88jFP6Pgji",
        "colab_type": "code",
        "colab": {}
      },
      "source": [
        "# Create a numpy array\n",
        "\n",
        "a = np.array([0, 1, 2, 3, 4])\n",
        "a"
      ],
      "execution_count": 0,
      "outputs": []
    },
    {
      "cell_type": "markdown",
      "metadata": {
        "id": "CzFrYYPnPgjl",
        "colab_type": "text"
      },
      "source": [
        "The attribute <code>size</code> is the number of elements in the array:"
      ]
    },
    {
      "cell_type": "code",
      "metadata": {
        "jupyter": {
          "outputs_hidden": false
        },
        "id": "gm8Ov5FqPgjm",
        "colab_type": "code",
        "colab": {}
      },
      "source": [
        "# Get the size of numpy array\n",
        "\n",
        "a.size"
      ],
      "execution_count": 0,
      "outputs": []
    },
    {
      "cell_type": "markdown",
      "metadata": {
        "id": "7jZ5KG7GPgjq",
        "colab_type": "text"
      },
      "source": [
        "The next two attributes will make more sense when we get to higher dimensions but let's review them. The attribute <code>ndim</code> represents the number of array dimensions or the rank of the array, in this case, one:"
      ]
    },
    {
      "cell_type": "code",
      "metadata": {
        "jupyter": {
          "outputs_hidden": false
        },
        "id": "rUdXUNyIPgjr",
        "colab_type": "code",
        "colab": {}
      },
      "source": [
        "# Get the number of dimensions of numpy array\n",
        "\n",
        "a.ndim"
      ],
      "execution_count": 0,
      "outputs": []
    },
    {
      "cell_type": "markdown",
      "metadata": {
        "id": "2C8Staf5Pgjw",
        "colab_type": "text"
      },
      "source": [
        "The attribute <code>shape</code> is a tuple of integers indicating the size of the array in each dimension:"
      ]
    },
    {
      "cell_type": "code",
      "metadata": {
        "jupyter": {
          "outputs_hidden": false
        },
        "id": "YQW7kSw5Pgjw",
        "colab_type": "code",
        "colab": {}
      },
      "source": [
        "# Get the shape/size of numpy array\n",
        "\n",
        "a.shape"
      ],
      "execution_count": 0,
      "outputs": []
    },
    {
      "cell_type": "code",
      "metadata": {
        "jupyter": {
          "outputs_hidden": true
        },
        "id": "82Epe8RsPgj0",
        "colab_type": "code",
        "colab": {}
      },
      "source": [
        "# Create a numpy array\n",
        "\n",
        "a = np.array([1, -1, 1, -1])"
      ],
      "execution_count": 0,
      "outputs": []
    },
    {
      "cell_type": "code",
      "metadata": {
        "jupyter": {
          "outputs_hidden": false
        },
        "id": "RpsHmZwZPgj5",
        "colab_type": "code",
        "colab": {}
      },
      "source": [
        "# Get the mean of numpy array\n",
        "\n",
        "mean = a.mean()\n",
        "mean"
      ],
      "execution_count": 0,
      "outputs": []
    },
    {
      "cell_type": "code",
      "metadata": {
        "jupyter": {
          "outputs_hidden": false
        },
        "id": "Zr0l3ogqPgj9",
        "colab_type": "code",
        "colab": {}
      },
      "source": [
        "# Get the standard deviation of numpy array\n",
        "\n",
        "standard_deviation=a.std()\n",
        "standard_deviation"
      ],
      "execution_count": 0,
      "outputs": []
    },
    {
      "cell_type": "code",
      "metadata": {
        "jupyter": {
          "outputs_hidden": false
        },
        "id": "MGzhxLr4PgkD",
        "colab_type": "code",
        "colab": {}
      },
      "source": [
        "# Create a numpy array\n",
        "\n",
        "b = np.array([-1, 2, 3, 4, 5])\n",
        "b"
      ],
      "execution_count": 0,
      "outputs": []
    },
    {
      "cell_type": "code",
      "metadata": {
        "jupyter": {
          "outputs_hidden": false
        },
        "id": "zBgR3nepPgkG",
        "colab_type": "code",
        "colab": {}
      },
      "source": [
        "# Get the biggest value in the numpy array\n",
        "\n",
        "max_b = b.max()\n",
        "max_b"
      ],
      "execution_count": 0,
      "outputs": []
    },
    {
      "cell_type": "code",
      "metadata": {
        "jupyter": {
          "outputs_hidden": false
        },
        "id": "FpfJWwchPgkL",
        "colab_type": "code",
        "colab": {}
      },
      "source": [
        "# Get the smallest value in the numpy array\n",
        "\n",
        "min_b = b.min()\n",
        "min_b"
      ],
      "execution_count": 0,
      "outputs": []
    },
    {
      "cell_type": "markdown",
      "metadata": {
        "id": "jqg8Hdc3PgkQ",
        "colab_type": "text"
      },
      "source": [
        "<hr>"
      ]
    },
    {
      "cell_type": "markdown",
      "metadata": {
        "id": "m7aQo7d8PgkR",
        "colab_type": "text"
      },
      "source": [
        "<h2 id=\"op\">Numpy Array Operations</h2>"
      ]
    },
    {
      "cell_type": "markdown",
      "metadata": {
        "id": "2nwr_IlaPgkT",
        "colab_type": "text"
      },
      "source": [
        "<h3 id=\"add\">Array Addition</h3>"
      ]
    },
    {
      "cell_type": "markdown",
      "metadata": {
        "id": "XIKU4xVfPgkU",
        "colab_type": "text"
      },
      "source": [
        "Consider the numpy array <code>u</code>:"
      ]
    },
    {
      "cell_type": "code",
      "metadata": {
        "jupyter": {
          "outputs_hidden": false
        },
        "id": "dX9lQzvJPgkV",
        "colab_type": "code",
        "colab": {}
      },
      "source": [
        "u = np.array([1, 0])\n",
        "u"
      ],
      "execution_count": 0,
      "outputs": []
    },
    {
      "cell_type": "markdown",
      "metadata": {
        "id": "vwkg1BHsPgke",
        "colab_type": "text"
      },
      "source": [
        "Consider the numpy array <code>v</code>:"
      ]
    },
    {
      "cell_type": "code",
      "metadata": {
        "jupyter": {
          "outputs_hidden": false
        },
        "id": "Kc4zIsEYPgkf",
        "colab_type": "code",
        "colab": {}
      },
      "source": [
        "v = np.array([0, 1])\n",
        "v"
      ],
      "execution_count": 0,
      "outputs": []
    },
    {
      "cell_type": "markdown",
      "metadata": {
        "id": "kb9BbRP-Pgkk",
        "colab_type": "text"
      },
      "source": [
        "We can add the two arrays and assign it to z:"
      ]
    },
    {
      "cell_type": "code",
      "metadata": {
        "jupyter": {
          "outputs_hidden": false
        },
        "id": "eCNmagewPgkl",
        "colab_type": "code",
        "colab": {}
      },
      "source": [
        "# Numpy Array Addition\n",
        "\n",
        "z = u + v\n",
        "z"
      ],
      "execution_count": 0,
      "outputs": []
    },
    {
      "cell_type": "markdown",
      "metadata": {
        "id": "BgTsKDbYPgkp",
        "colab_type": "text"
      },
      "source": [
        " The operation is equivalent to vector addition:"
      ]
    },
    {
      "cell_type": "code",
      "metadata": {
        "jupyter": {
          "outputs_hidden": false
        },
        "id": "eaX0QZ-nPgks",
        "colab_type": "code",
        "colab": {}
      },
      "source": [
        "# Plot numpy arrays\n",
        "\n",
        "Plotvec1(u, z, v)"
      ],
      "execution_count": 0,
      "outputs": []
    },
    {
      "cell_type": "markdown",
      "metadata": {
        "id": "Z9V7Rx_BPgkv",
        "colab_type": "text"
      },
      "source": [
        "<h3 id=\"multi\">Array Multiplication</h3>"
      ]
    },
    {
      "cell_type": "markdown",
      "metadata": {
        "id": "qmP3ZRfnPgkw",
        "colab_type": "text"
      },
      "source": [
        "Consider the vector numpy array <code>y</code>:"
      ]
    },
    {
      "cell_type": "code",
      "metadata": {
        "jupyter": {
          "outputs_hidden": false
        },
        "id": "mzvZZwN9Pgkx",
        "colab_type": "code",
        "colab": {}
      },
      "source": [
        "# Create a numpy array\n",
        "\n",
        "y = np.array([1, 2])\n",
        "y"
      ],
      "execution_count": 0,
      "outputs": []
    },
    {
      "cell_type": "markdown",
      "metadata": {
        "id": "oINsBsVCPgk0",
        "colab_type": "text"
      },
      "source": [
        "We can multiply every element in the array by 2:"
      ]
    },
    {
      "cell_type": "code",
      "metadata": {
        "jupyter": {
          "outputs_hidden": false
        },
        "id": "w4Q9_f1SPgk1",
        "colab_type": "code",
        "colab": {}
      },
      "source": [
        "# Numpy Array Multiplication\n",
        "\n",
        "z = 2 * y\n",
        "z"
      ],
      "execution_count": 0,
      "outputs": []
    },
    {
      "cell_type": "markdown",
      "metadata": {
        "id": "QhhrBe3DPgk4",
        "colab_type": "text"
      },
      "source": [
        " This is equivalent to multiplying a vector by a scaler: "
      ]
    },
    {
      "cell_type": "markdown",
      "metadata": {
        "id": "wdRRhK5mPgk4",
        "colab_type": "text"
      },
      "source": [
        "<h3 id=\"prod\">Product of Two Numpy Arrays</h3>"
      ]
    },
    {
      "cell_type": "markdown",
      "metadata": {
        "id": "VU2aFWsmPgk5",
        "colab_type": "text"
      },
      "source": [
        "Consider the following array <code>u</code>:"
      ]
    },
    {
      "cell_type": "code",
      "metadata": {
        "jupyter": {
          "outputs_hidden": false
        },
        "id": "r0SFjog-Pgk6",
        "colab_type": "code",
        "colab": {}
      },
      "source": [
        "# Create a numpy array\n",
        "\n",
        "u = np.array([1, 2])\n",
        "u"
      ],
      "execution_count": 0,
      "outputs": []
    },
    {
      "cell_type": "markdown",
      "metadata": {
        "id": "oCAEuuDHPgk-",
        "colab_type": "text"
      },
      "source": [
        "Consider the following array <code>v</code>:"
      ]
    },
    {
      "cell_type": "code",
      "metadata": {
        "jupyter": {
          "outputs_hidden": false
        },
        "id": "JUn5h1RPPgk-",
        "colab_type": "code",
        "colab": {}
      },
      "source": [
        "# Create a numpy array\n",
        "\n",
        "v = np.array([3, 2])\n",
        "v"
      ],
      "execution_count": 0,
      "outputs": []
    },
    {
      "cell_type": "markdown",
      "metadata": {
        "id": "tgQHu9TlPglC",
        "colab_type": "text"
      },
      "source": [
        " The product of the two numpy arrays <code>u</code> and <code>v</code> is given by:"
      ]
    },
    {
      "cell_type": "code",
      "metadata": {
        "jupyter": {
          "outputs_hidden": false
        },
        "id": "vQG3DFVuPglC",
        "colab_type": "code",
        "colab": {}
      },
      "source": [
        "# Calculate the production of two numpy arrays\n",
        "\n",
        "z = u * v\n",
        "z"
      ],
      "execution_count": 0,
      "outputs": []
    },
    {
      "cell_type": "markdown",
      "metadata": {
        "id": "8YmG9Y15PglF",
        "colab_type": "text"
      },
      "source": [
        "<h3 id=\"dot\">Dot Product</h3>"
      ]
    },
    {
      "cell_type": "markdown",
      "metadata": {
        "id": "SSBH51tzPglH",
        "colab_type": "text"
      },
      "source": [
        "The dot product of the two numpy arrays <code>u</code> and <code>v</code> is given by:"
      ]
    },
    {
      "cell_type": "code",
      "metadata": {
        "jupyter": {
          "outputs_hidden": false
        },
        "id": "zCr0TPopPglI",
        "colab_type": "code",
        "colab": {}
      },
      "source": [
        "# Calculate the dot product\n",
        "\n",
        "np.dot(u, v)"
      ],
      "execution_count": 0,
      "outputs": []
    },
    {
      "cell_type": "markdown",
      "metadata": {
        "id": "Hf6MuGTkPglK",
        "colab_type": "text"
      },
      "source": [
        "<h3 id=\"cons\">Adding Constant to a Numpy Array</h3>"
      ]
    },
    {
      "cell_type": "markdown",
      "metadata": {
        "id": "zyx-_Jr-PglL",
        "colab_type": "text"
      },
      "source": [
        "Consider the following array: "
      ]
    },
    {
      "cell_type": "code",
      "metadata": {
        "jupyter": {
          "outputs_hidden": false
        },
        "id": "ZrqlN7GaPglL",
        "colab_type": "code",
        "colab": {}
      },
      "source": [
        "# Create a constant to numpy array\n",
        "\n",
        "u = np.array([1, 2, 3, -1]) \n",
        "u"
      ],
      "execution_count": 0,
      "outputs": []
    },
    {
      "cell_type": "markdown",
      "metadata": {
        "id": "Of-NqIAlPglT",
        "colab_type": "text"
      },
      "source": [
        "Adding the constant 1 to each element in the array:"
      ]
    },
    {
      "cell_type": "code",
      "metadata": {
        "jupyter": {
          "outputs_hidden": false
        },
        "id": "NBLqY_IIPglU",
        "colab_type": "code",
        "colab": {}
      },
      "source": [
        "# Add the constant to array\n",
        "\n",
        "u + 1"
      ],
      "execution_count": 0,
      "outputs": []
    },
    {
      "cell_type": "markdown",
      "metadata": {
        "id": "RygkCRUZPglX",
        "colab_type": "text"
      },
      "source": [
        " The process is summarised in the following animation:"
      ]
    },
    {
      "cell_type": "markdown",
      "metadata": {
        "id": "kqYrXUtXPglX",
        "colab_type": "text"
      },
      "source": [
        "<img src=\"https://s3-api.us-geo.objectstorage.softlayer.net/cf-courses-data/CognitiveClass/PY0101EN/Chapter%205/Images/NumOneAdd.gif\" width=\"500\" />"
      ]
    },
    {
      "cell_type": "markdown",
      "metadata": {
        "id": "hjwN9sg1Pgla",
        "colab_type": "text"
      },
      "source": [
        "<hr>"
      ]
    },
    {
      "cell_type": "markdown",
      "metadata": {
        "id": "jZXehMImPglb",
        "colab_type": "text"
      },
      "source": [
        "<h2 id=\"math\">Mathematical Functions</h2>"
      ]
    },
    {
      "cell_type": "markdown",
      "metadata": {
        "id": "RudOcjk3Pglc",
        "colab_type": "text"
      },
      "source": [
        " We can access the value of pie in numpy as follows :"
      ]
    },
    {
      "cell_type": "code",
      "metadata": {
        "jupyter": {
          "outputs_hidden": false
        },
        "id": "SxbzFqj4Pgld",
        "colab_type": "code",
        "colab": {}
      },
      "source": [
        "# The value of pie\n",
        "\n",
        "np.pi"
      ],
      "execution_count": 0,
      "outputs": []
    },
    {
      "cell_type": "markdown",
      "metadata": {
        "id": "lJ21P1sUPglh",
        "colab_type": "text"
      },
      "source": [
        " We can create the following numpy array in Radians:"
      ]
    },
    {
      "cell_type": "code",
      "metadata": {
        "jupyter": {
          "outputs_hidden": false
        },
        "id": "BPdW5IzpPglj",
        "colab_type": "code",
        "colab": {}
      },
      "source": [
        "# Create the numpy array in radians\n",
        "\n",
        "x = np.array([0, np.pi/2 , np.pi])"
      ],
      "execution_count": 0,
      "outputs": []
    },
    {
      "cell_type": "markdown",
      "metadata": {
        "id": "n3Tibs9APglm",
        "colab_type": "text"
      },
      "source": [
        "We can apply the function <code>sin</code> to the array <code>x</code> and assign the values to the array <code>y</code>; this applies the sine function to each element in the array:  "
      ]
    },
    {
      "cell_type": "code",
      "metadata": {
        "jupyter": {
          "outputs_hidden": false
        },
        "id": "dv5Z5qN9Pgln",
        "colab_type": "code",
        "colab": {}
      },
      "source": [
        "# Calculate the sin of each elements\n",
        "\n",
        "y = np.sin(x)\n",
        "y"
      ],
      "execution_count": 0,
      "outputs": []
    },
    {
      "cell_type": "markdown",
      "metadata": {
        "id": "lDufHPtPPglp",
        "colab_type": "text"
      },
      "source": [
        "<hr>"
      ]
    },
    {
      "cell_type": "markdown",
      "metadata": {
        "id": "7GcFbNJCPglq",
        "colab_type": "text"
      },
      "source": [
        "<h2 id=\"lin\">Linspace</h2>"
      ]
    },
    {
      "cell_type": "markdown",
      "metadata": {
        "id": "eXnU31I6Pgls",
        "colab_type": "text"
      },
      "source": [
        " A useful function for plotting mathematical functions is \"linespace\".   Linespace returns evenly spaced numbers over a specified interval. We specify the starting point of the sequence and the ending point of the sequence. The parameter \"num\" indicates the Number of samples to generate, in this case 5:"
      ]
    },
    {
      "cell_type": "code",
      "metadata": {
        "jupyter": {
          "outputs_hidden": false
        },
        "id": "v6aGVfaCPglu",
        "colab_type": "code",
        "colab": {}
      },
      "source": [
        "# Makeup a numpy array within [-2, 2] and 5 elements\n",
        "\n",
        "np.linspace(-2, 2, num=5)"
      ],
      "execution_count": 0,
      "outputs": []
    },
    {
      "cell_type": "markdown",
      "metadata": {
        "id": "GzRCpGhGPgly",
        "colab_type": "text"
      },
      "source": [
        "If we change the parameter <code>num</code> to 9, we get 9 evenly spaced numbers over the interval from -2 to 2: "
      ]
    },
    {
      "cell_type": "code",
      "metadata": {
        "jupyter": {
          "outputs_hidden": false
        },
        "id": "Vw2r80SNPglz",
        "colab_type": "code",
        "colab": {}
      },
      "source": [
        "# Makeup a numpy array within [-2, 2] and 9 elements\n",
        "\n",
        "np.linspace(-2, 2, num=9)"
      ],
      "execution_count": 0,
      "outputs": []
    },
    {
      "cell_type": "markdown",
      "metadata": {
        "id": "coEEkfu6Pgl5",
        "colab_type": "text"
      },
      "source": [
        "We can use the function line space to generate 100 evenly spaced samples from the interval 0 to 2π: "
      ]
    },
    {
      "cell_type": "code",
      "metadata": {
        "jupyter": {
          "outputs_hidden": false
        },
        "id": "A197CBtIPgl7",
        "colab_type": "code",
        "colab": {}
      },
      "source": [
        "# Makeup a numpy array within [0, 2π] and 100 elements \n",
        "\n",
        "x = np.linspace(0, 2*np.pi, num=100)"
      ],
      "execution_count": 0,
      "outputs": []
    },
    {
      "cell_type": "markdown",
      "metadata": {
        "id": "3D4aA0gvPgmA",
        "colab_type": "text"
      },
      "source": [
        "We can apply the sine function to each element in the array <code>x</code> and assign it to the array <code>y</code>: "
      ]
    },
    {
      "cell_type": "code",
      "metadata": {
        "jupyter": {
          "outputs_hidden": true
        },
        "id": "0YRXPQMmPgmA",
        "colab_type": "code",
        "colab": {}
      },
      "source": [
        "# Calculate the sine of x list\n",
        "\n",
        "y = np.sin(x)"
      ],
      "execution_count": 0,
      "outputs": []
    },
    {
      "cell_type": "code",
      "metadata": {
        "jupyter": {
          "outputs_hidden": false
        },
        "id": "qhB2wI8lPgmD",
        "colab_type": "code",
        "colab": {}
      },
      "source": [
        "# Plot the result\n",
        "\n",
        "plt.plot(x, y)"
      ],
      "execution_count": 0,
      "outputs": []
    },
    {
      "cell_type": "markdown",
      "metadata": {
        "id": "K38jxHaFPgmF",
        "colab_type": "text"
      },
      "source": [
        "<hr>"
      ]
    },
    {
      "cell_type": "markdown",
      "metadata": {
        "id": "NIlsiG-sPgmG",
        "colab_type": "text"
      },
      "source": [
        "<h2 id=\"quiz\">Quiz on 1D Numpy Array</h2>"
      ]
    },
    {
      "cell_type": "markdown",
      "metadata": {
        "id": "CpAt7bxyPgmG",
        "colab_type": "text"
      },
      "source": [
        "Implement the following vector subtraction in numpy: u-v"
      ]
    },
    {
      "cell_type": "code",
      "metadata": {
        "id": "OB6RHibEPgmG",
        "colab_type": "code",
        "colab": {}
      },
      "source": [
        "# Write your code below and press Shift+Enter to execute\n",
        "\n",
        "u = np.array([1, 0])\n",
        "v = np.array([0, 1])"
      ],
      "execution_count": 0,
      "outputs": []
    },
    {
      "cell_type": "markdown",
      "metadata": {
        "id": "JPMD39bQPgmJ",
        "colab_type": "text"
      },
      "source": [
        "Double-click __here__ for the solution.\n",
        "\n",
        "<!-- Your answer is below:\n",
        "u - v\n",
        "-->"
      ]
    },
    {
      "cell_type": "markdown",
      "metadata": {
        "id": "MDYIp4WKPgmJ",
        "colab_type": "text"
      },
      "source": [
        "<hr>"
      ]
    },
    {
      "cell_type": "markdown",
      "metadata": {
        "id": "6omjIdTXPgmJ",
        "colab_type": "text"
      },
      "source": [
        "Multiply the numpy array z with -2:"
      ]
    },
    {
      "cell_type": "code",
      "metadata": {
        "id": "zUhTUgqYPgmK",
        "colab_type": "code",
        "colab": {}
      },
      "source": [
        "# Write your code below and press Shift+Enter to execute\n",
        "\n",
        "z = np.array([2, 4])"
      ],
      "execution_count": 0,
      "outputs": []
    },
    {
      "cell_type": "markdown",
      "metadata": {
        "id": "f_pYpCZQPgmP",
        "colab_type": "text"
      },
      "source": [
        "Double-click __here__ for the solution.\n",
        "\n",
        "<!-- Your answer is below:\n",
        "-2 * z\n",
        "-->"
      ]
    },
    {
      "cell_type": "markdown",
      "metadata": {
        "id": "JewO5YY_PgmQ",
        "colab_type": "text"
      },
      "source": [
        "<hr>"
      ]
    },
    {
      "cell_type": "markdown",
      "metadata": {
        "id": "UDU0dlYTPgmQ",
        "colab_type": "text"
      },
      "source": [
        "Consider the list <code>[1, 2, 3, 4, 5]</code> and <code>[1, 0, 1, 0, 1]</code>, and cast both lists to a numpy array then multiply them together:"
      ]
    },
    {
      "cell_type": "code",
      "metadata": {
        "id": "0hdRj7LsPgmR",
        "colab_type": "code",
        "colab": {}
      },
      "source": [
        "# Write your code below and press Shift+Enter to execute"
      ],
      "execution_count": 0,
      "outputs": []
    },
    {
      "cell_type": "markdown",
      "metadata": {
        "id": "vrjIcxHIPgmU",
        "colab_type": "text"
      },
      "source": [
        "Double-click __here__ for the solution.\n",
        "\n",
        "<!-- Your answer is below:\n",
        "a = np.array([1, 2, 3, 4, 5])\n",
        "b = np.array([1, 0, 1, 0, 1])\n",
        "a * b\n",
        "-->"
      ]
    },
    {
      "cell_type": "markdown",
      "metadata": {
        "id": "3KfJUuoYPgmV",
        "colab_type": "text"
      },
      "source": [
        "<hr>"
      ]
    },
    {
      "cell_type": "markdown",
      "metadata": {
        "id": "Ci64kzSnPgmW",
        "colab_type": "text"
      },
      "source": [
        "Convert the list <code>[-1, 1]</code> and <code>[1, 1]</code> to numpy arrays <code>a</code> and <code>b</code>.  Then, plot the arrays as vectors using the fuction <code>Plotvec2</code> and find the dot product:"
      ]
    },
    {
      "cell_type": "code",
      "metadata": {
        "id": "VsRq_R3kPgmW",
        "colab_type": "code",
        "colab": {}
      },
      "source": [
        "# Write your code below and press Shift+Enter to execute"
      ],
      "execution_count": 0,
      "outputs": []
    },
    {
      "cell_type": "markdown",
      "metadata": {
        "id": "a_6vKDLWPgmZ",
        "colab_type": "text"
      },
      "source": [
        "Double-click __here__ for the solution.\n",
        "\n",
        "<!-- Your answer is below:\n",
        "a = np.array([-1, 1])\n",
        "b = np.array([1, 1])\n",
        "Plotvec2(a, b)\n",
        "print(\"The dot product is\", np.dot(a,b))\n",
        "-->"
      ]
    },
    {
      "cell_type": "markdown",
      "metadata": {
        "id": "B9mDSLhgPgmZ",
        "colab_type": "text"
      },
      "source": [
        "<hr>"
      ]
    },
    {
      "cell_type": "markdown",
      "metadata": {
        "id": "kBzkngMDPgmZ",
        "colab_type": "text"
      },
      "source": [
        "Convert the list <code>[1, 0]</code> and <code>[0, 1]</code> to numpy arrays <code>a</code> and <code>b</code>. Then, plot the arrays as vectors using the function <code>Plotvec2</code> and find the dot product:"
      ]
    },
    {
      "cell_type": "code",
      "metadata": {
        "id": "rn1qscjAPgma",
        "colab_type": "code",
        "colab": {}
      },
      "source": [
        "# Write your code below and press Shift+Enter to execute"
      ],
      "execution_count": 0,
      "outputs": []
    },
    {
      "cell_type": "markdown",
      "metadata": {
        "id": "YR5zjPCBPgmf",
        "colab_type": "text"
      },
      "source": [
        "Double-click __here__ for the solution.\n",
        "\n",
        "<!-- \n",
        "a = np.array([1, 0])\n",
        "b = np.array([0, 1])\n",
        "Plotvec2(a, b)\n",
        "print(\"The dot product is\", np.dot(a, b))\n",
        " -->"
      ]
    },
    {
      "cell_type": "markdown",
      "metadata": {
        "id": "bbUv8P_-Pgmf",
        "colab_type": "text"
      },
      "source": [
        "<hr>"
      ]
    },
    {
      "cell_type": "markdown",
      "metadata": {
        "id": "zMhOnajrPgmg",
        "colab_type": "text"
      },
      "source": [
        "Convert the list <code>[1, 1]</code> and <code>[0, 1]</code> to numpy arrays <code>a</code> and <code>b</code>. Then plot the arrays as vectors using the fuction <code>Plotvec2</code> and find the dot product:"
      ]
    },
    {
      "cell_type": "code",
      "metadata": {
        "id": "Kxp4qkCMPgmg",
        "colab_type": "code",
        "colab": {}
      },
      "source": [
        "# Write your code below and press Shift+Enter to execute"
      ],
      "execution_count": 0,
      "outputs": []
    },
    {
      "cell_type": "markdown",
      "metadata": {
        "id": "IJMpa4mMPgmj",
        "colab_type": "text"
      },
      "source": [
        "Double-click __here__ for the solution.\n",
        "\n",
        "<!-- \n",
        "a = np.array([1, 1])\n",
        "b = np.array([0, 1])\n",
        "Plotvec2(a, b)\n",
        "print(\"The dot product is\", np.dot(a, b))\n",
        "print(\"The dot product is\", np.dot(a, b))\n",
        " -->"
      ]
    },
    {
      "cell_type": "markdown",
      "metadata": {
        "id": "Bq3ztId9Pgmk",
        "colab_type": "text"
      },
      "source": [
        "<hr>"
      ]
    },
    {
      "cell_type": "markdown",
      "metadata": {
        "id": "UTvUJncBPgmk",
        "colab_type": "text"
      },
      "source": [
        "Why are the results of the dot product for <code>[-1, 1]</code> and <code>[1, 1]</code> and the dot product for <code>[1, 0]</code> and <code>[0, 1]</code> zero, but not zero for the dot product for <code>[1, 1]</code> and <code>[0, 1]</code>? <p><i>Hint: Study the corresponding figures, pay attention to the direction the arrows are pointing to.</i></p>"
      ]
    },
    {
      "cell_type": "code",
      "metadata": {
        "id": "glERDCdoPgml",
        "colab_type": "code",
        "colab": {}
      },
      "source": [
        "# Write your code below and press Shift+Enter to execute"
      ],
      "execution_count": 0,
      "outputs": []
    },
    {
      "cell_type": "markdown",
      "metadata": {
        "id": "5xxkRRWgPgmn",
        "colab_type": "text"
      },
      "source": [
        "Double-click __here__ for the solution.\n",
        "\n",
        "<!-- \n",
        "The vectors used for question 4 and 5 are perpendicular. As a result, the dot product is zero. \n",
        "-->"
      ]
    },
    {
      "cell_type": "markdown",
      "metadata": {
        "id": "l-f4y4RJPgmo",
        "colab_type": "text"
      },
      "source": [
        "<hr>\n",
        "<h2>The last exercise!</h2>\n",
        "<p>Congratulations, you have completed your first lesson and hands-on lab in Python. However, there is one more thing you need to do. The Data Science community encourages sharing work. The best way to share and showcase your work is to share it on GitHub. By sharing your notebook on GitHub you are not only building your reputation with fellow data scientists, but you can also show it off when applying for a job. Even though this was your first piece of work, it is never too early to start building good habits. So, please read and follow <a href=\"https://cognitiveclass.ai/blog/data-scientists-stand-out-by-sharing-your-notebooks/\" target=\"_blank\">this article</a> to learn how to share your work.\n",
        "<hr>"
      ]
    },
    {
      "cell_type": "markdown",
      "metadata": {
        "id": "_Dbi6aUtPgmo",
        "colab_type": "text"
      },
      "source": [
        "<div class=\"alert alert-block alert-info\" style=\"margin-top: 20px\">\n",
        "<h2>Get IBM Watson Studio free of charge!</h2>\n",
        "    <p><a href=\"https://cocl.us/NotebooksPython101bottom\"><img src=\"https://s3-api.us-geo.objectstorage.softlayer.net/cf-courses-data/CognitiveClass/PY0101EN/Ad/BottomAd.png\" width=\"750\" align=\"center\"></a></p>\n",
        "</div>"
      ]
    },
    {
      "cell_type": "markdown",
      "metadata": {
        "id": "H7tmatI2Pgmp",
        "colab_type": "text"
      },
      "source": [
        "<h3>About the Authors:</h3>  \n",
        "<p><a href=\"https://www.linkedin.com/in/joseph-s-50398b136/\" target=\"_blank\">Joseph Santarcangelo</a> is a Data Scientist at IBM, and holds a PhD in Electrical Engineering. His research focused on using Machine Learning, Signal Processing, and Computer Vision to determine how videos impact human cognition. Joseph has been working for IBM since he completed his PhD.</p>"
      ]
    },
    {
      "cell_type": "markdown",
      "metadata": {
        "id": "1ggZ0p3_Pgmp",
        "colab_type": "text"
      },
      "source": [
        "Other contributors: <a href=\"www.linkedin.com/in/jiahui-mavis-zhou-a4537814a\">Mavis Zhou</a>"
      ]
    },
    {
      "cell_type": "markdown",
      "metadata": {
        "id": "xqQEKvgsPgmq",
        "colab_type": "text"
      },
      "source": [
        "<hr>"
      ]
    },
    {
      "cell_type": "markdown",
      "metadata": {
        "id": "4kkDoDPPPgmq",
        "colab_type": "text"
      },
      "source": [
        "<p>Copyright &copy; 2018 IBM Developer Skills Network. This notebook and its source code are released under the terms of the <a href=\"https://cognitiveclass.ai/mit-license/\">MIT License</a>.</p>"
      ]
    }
  ]
}