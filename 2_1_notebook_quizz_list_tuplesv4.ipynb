{
  "nbformat": 4,
  "nbformat_minor": 0,
  "metadata": {
    "kernelspec": {
      "display_name": "Python 3",
      "language": "python",
      "name": "python3"
    },
    "language_info": {
      "codemirror_mode": {
        "name": "ipython",
        "version": 3
      },
      "file_extension": ".py",
      "mimetype": "text/x-python",
      "name": "python",
      "nbconvert_exporter": "python",
      "pygments_lexer": "ipython3",
      "version": "3.6.5"
    },
    "colab": {
      "name": "2.1_notebook_quizz_list_tuplesv4.ipynb",
      "provenance": [],
      "include_colab_link": true
    }
  },
  "cells": [
    {
      "cell_type": "markdown",
      "metadata": {
        "id": "view-in-github",
        "colab_type": "text"
      },
      "source": [
        "<a href=\"https://colab.research.google.com/github/nayidob/Python-for-Data-Science-PY0101EN/blob/master/2_1_notebook_quizz_list_tuplesv4.ipynb\" target=\"_parent\"><img src=\"https://colab.research.google.com/assets/colab-badge.svg\" alt=\"Open In Colab\"/></a>"
      ]
    },
    {
      "cell_type": "markdown",
      "metadata": {
        "id": "5QwPdii7KoUf",
        "colab_type": "text"
      },
      "source": [
        "<h3 align=center>Create a Tuple</h3>"
      ]
    },
    {
      "cell_type": "markdown",
      "metadata": {
        "id": "EZpi7yXGKoUh",
        "colab_type": "text"
      },
      "source": [
        "create the  Tuple  <code> (0,1,2,3) </code> and assign it to the variable  <code> A</code>:"
      ]
    },
    {
      "cell_type": "code",
      "metadata": {
        "id": "8O5oRGuMKoUi",
        "colab_type": "code",
        "colab": {}
      },
      "source": [
        ""
      ],
      "execution_count": 0,
      "outputs": []
    },
    {
      "cell_type": "markdown",
      "metadata": {
        "id": "FByJqK5PKoUo",
        "colab_type": "text"
      },
      "source": [
        "<h3 align=center>Find the elements of a Tuple</h3> "
      ]
    },
    {
      "cell_type": "markdown",
      "metadata": {
        "id": "9T5ks8dJKoUp",
        "colab_type": "text"
      },
      "source": [
        "Find the first two elements of the Tuple <code> A </code>:"
      ]
    },
    {
      "cell_type": "code",
      "metadata": {
        "id": "z9QNE48IKoUq",
        "colab_type": "code",
        "colab": {}
      },
      "source": [
        ""
      ],
      "execution_count": 0,
      "outputs": []
    },
    {
      "cell_type": "markdown",
      "metadata": {
        "id": "U896_h13KoUv",
        "colab_type": "text"
      },
      "source": [
        "<h3 align=center>Lists </h3> "
      ]
    },
    {
      "cell_type": "markdown",
      "metadata": {
        "id": "okrXH_kgKoUw",
        "colab_type": "text"
      },
      "source": [
        "For the next few questions, you will need the following list:"
      ]
    },
    {
      "cell_type": "code",
      "metadata": {
        "id": "RkUQJcv9KoUx",
        "colab_type": "code",
        "colab": {}
      },
      "source": [
        "B=[\"a\",\"b\",\"c\"]"
      ],
      "execution_count": 0,
      "outputs": []
    },
    {
      "cell_type": "markdown",
      "metadata": {
        "id": "Qf8hprrYKoU2",
        "colab_type": "text"
      },
      "source": [
        "Find the first two elements of the list <code> B</code>:"
      ]
    },
    {
      "cell_type": "code",
      "metadata": {
        "id": "t52HruIxKoU3",
        "colab_type": "code",
        "colab": {}
      },
      "source": [
        ""
      ],
      "execution_count": 0,
      "outputs": []
    },
    {
      "cell_type": "markdown",
      "metadata": {
        "id": "x6RXCpA_KoU8",
        "colab_type": "text"
      },
      "source": [
        "Change the first element of the list to an uppercase  <code> \"A\" </code> "
      ]
    },
    {
      "cell_type": "code",
      "metadata": {
        "id": "u5gPLbRCKoU9",
        "colab_type": "code",
        "colab": {}
      },
      "source": [
        ""
      ],
      "execution_count": 0,
      "outputs": []
    },
    {
      "cell_type": "markdown",
      "metadata": {
        "id": "sNRWObVDKoVC",
        "colab_type": "text"
      },
      "source": [
        "<hr>\n",
        "<small>Copyright &copy; 2018 IBM Cognitive Class. This notebook and its source code are released under the terms of the [MIT License](https://cognitiveclass.ai/mit-license/).</small>"
      ]
    }
  ]
}