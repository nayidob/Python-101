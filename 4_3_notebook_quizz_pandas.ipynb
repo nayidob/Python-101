{
  "nbformat": 4,
  "nbformat_minor": 0,
  "metadata": {
    "kernelspec": {
      "display_name": "Python 3",
      "language": "python",
      "name": "python3"
    },
    "language_info": {
      "codemirror_mode": {
        "name": "ipython",
        "version": 3
      },
      "file_extension": ".py",
      "mimetype": "text/x-python",
      "name": "python",
      "nbconvert_exporter": "python",
      "pygments_lexer": "ipython3",
      "version": "3.6.5"
    },
    "colab": {
      "name": "4.3_notebook_quizz_pandas.ipynb",
      "provenance": [],
      "include_colab_link": true
    }
  },
  "cells": [
    {
      "cell_type": "markdown",
      "metadata": {
        "id": "view-in-github",
        "colab_type": "text"
      },
      "source": [
        "<a href=\"https://colab.research.google.com/github/nayidob/Python-for-Data-Science-PY0101EN/blob/master/4_3_notebook_quizz_pandas.ipynb\" target=\"_parent\"><img src=\"https://colab.research.google.com/assets/colab-badge.svg\" alt=\"Open In Colab\"/></a>"
      ]
    },
    {
      "cell_type": "markdown",
      "metadata": {
        "id": "SLMS5n0KLWQu",
        "colab_type": "text"
      },
      "source": [
        "<h3> Get to Know a numpy Array </h3>"
      ]
    },
    {
      "cell_type": "markdown",
      "metadata": {
        "id": "R4Ld7xMaLWQv",
        "colab_type": "text"
      },
      "source": [
        "You will use the dataframe <code>df</code> for the following:"
      ]
    },
    {
      "cell_type": "code",
      "metadata": {
        "id": "hrzRhkcgLWQw",
        "colab_type": "code",
        "colab": {}
      },
      "source": [
        "import pandas as pd\n",
        "\n",
        "df=pd.DataFrame({'a':[11,21,31],'b':[21,22,23]})\n"
      ],
      "execution_count": 0,
      "outputs": []
    },
    {
      "cell_type": "markdown",
      "metadata": {
        "id": "kaXpDJ6dLWQ1",
        "colab_type": "text"
      },
      "source": [
        "1) plot the first three rows:"
      ]
    },
    {
      "cell_type": "code",
      "metadata": {
        "id": "7cxclqF9LWQ2",
        "colab_type": "code",
        "colab": {}
      },
      "source": [
        "df.head(3)"
      ],
      "execution_count": 0,
      "outputs": []
    },
    {
      "cell_type": "markdown",
      "metadata": {
        "id": "3hFx_hnJLWQ6",
        "colab_type": "text"
      },
      "source": [
        "2) obtain column  <code> 'a' </code>"
      ]
    },
    {
      "cell_type": "code",
      "metadata": {
        "id": "cRTMej7PLWQ8",
        "colab_type": "code",
        "colab": {}
      },
      "source": [
        "df['a']"
      ],
      "execution_count": 0,
      "outputs": []
    },
    {
      "cell_type": "markdown",
      "metadata": {
        "id": "JThsApSgLWRB",
        "colab_type": "text"
      },
      "source": [
        "<hr>\n",
        "<small>Copyright &copy; 2018 IBM Cognitive Class. This notebook and its source code are released under the terms of the [MIT License](https://cognitiveclass.ai/mit-license/).</small>"
      ]
    }
  ]
}