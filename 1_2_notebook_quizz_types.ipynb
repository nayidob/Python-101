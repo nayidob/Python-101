{
  "nbformat": 4,
  "nbformat_minor": 0,
  "metadata": {
    "kernelspec": {
      "display_name": "Python 3",
      "language": "python",
      "name": "python3"
    },
    "language_info": {
      "codemirror_mode": {
        "name": "ipython",
        "version": 3
      },
      "file_extension": ".py",
      "mimetype": "text/x-python",
      "name": "python",
      "nbconvert_exporter": "python",
      "pygments_lexer": "ipython3",
      "version": "3.6.5"
    },
    "colab": {
      "name": "1.2_notebook_quizz_types.ipynb",
      "provenance": [],
      "include_colab_link": true
    }
  },
  "cells": [
    {
      "cell_type": "markdown",
      "metadata": {
        "id": "view-in-github",
        "colab_type": "text"
      },
      "source": [
        "<a href=\"https://colab.research.google.com/github/nayidob/Python-for-Data-Science-PY0101EN/blob/master/1_2_notebook_quizz_types.ipynb\" target=\"_parent\"><img src=\"https://colab.research.google.com/assets/colab-badge.svg\" alt=\"Open In Colab\"/></a>"
      ]
    },
    {
      "cell_type": "markdown",
      "metadata": {
        "id": "Z02Vn2WqKU3d",
        "colab_type": "text"
      },
      "source": [
        "<h3 align=center>Hello World</h3>"
      ]
    },
    {
      "cell_type": "markdown",
      "metadata": {
        "id": "IPTsY7m_KU3e",
        "colab_type": "text"
      },
      "source": [
        "Find the type of the following using the <code>type</code> command:"
      ]
    },
    {
      "cell_type": "code",
      "metadata": {
        "id": "M-Y4Q5ZgKU3g",
        "colab_type": "code",
        "colab": {}
      },
      "source": [
        "\"Hello World\""
      ],
      "execution_count": 0,
      "outputs": []
    },
    {
      "cell_type": "markdown",
      "metadata": {
        "id": "fWz2GcYcKU3m",
        "colab_type": "text"
      },
      "source": [
        "<h3 align=center>Type casting </h3> "
      ]
    },
    {
      "cell_type": "markdown",
      "metadata": {
        "id": "4g00IDFQKU3n",
        "colab_type": "text"
      },
      "source": [
        "Find the type of the following using the <code>type</code> command:"
      ]
    },
    {
      "cell_type": "code",
      "metadata": {
        "id": "AxRqNZA6KU3o",
        "colab_type": "code",
        "colab": {}
      },
      "source": [
        "\"1.1\""
      ],
      "execution_count": 0,
      "outputs": []
    },
    {
      "cell_type": "markdown",
      "metadata": {
        "id": "UuVubWt-KU3t",
        "colab_type": "text"
      },
      "source": [
        "<h3 align=center>Is a Number Always a Number \n",
        "</h3> "
      ]
    },
    {
      "cell_type": "markdown",
      "metadata": {
        "id": "5obiTRSAKU3u",
        "colab_type": "text"
      },
      "source": [
        "Cast the following to a <code>int</code> then to a <code>bool</code>"
      ]
    },
    {
      "cell_type": "code",
      "metadata": {
        "id": "L2c5PUaMKU3v",
        "colab_type": "code",
        "colab": {}
      },
      "source": [
        "\"1\""
      ],
      "execution_count": 0,
      "outputs": []
    },
    {
      "cell_type": "markdown",
      "metadata": {
        "id": "zPGwM-w9KU3z",
        "colab_type": "text"
      },
      "source": [
        "<hr>\n",
        "<small>Copyright &copy; 2018 IBM Cognitive Class. This notebook and its source code are released under the terms of the [MIT License](https://cognitiveclass.ai/mit-license/).</small>"
      ]
    }
  ]
}