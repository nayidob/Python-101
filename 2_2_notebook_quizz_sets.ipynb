{
  "nbformat": 4,
  "nbformat_minor": 0,
  "metadata": {
    "kernelspec": {
      "display_name": "Python 3",
      "language": "python",
      "name": "python3"
    },
    "language_info": {
      "codemirror_mode": {
        "name": "ipython",
        "version": 3
      },
      "file_extension": ".py",
      "mimetype": "text/x-python",
      "name": "python",
      "nbconvert_exporter": "python",
      "pygments_lexer": "ipython3",
      "version": "3.6.5"
    },
    "colab": {
      "name": "2.2_notebook_quizz_sets.ipynb",
      "provenance": [],
      "include_colab_link": true
    }
  },
  "cells": [
    {
      "cell_type": "markdown",
      "metadata": {
        "id": "view-in-github",
        "colab_type": "text"
      },
      "source": [
        "<a href=\"https://colab.research.google.com/github/nayidob/Python-for-Data-Science-PY0101EN/blob/master/2_2_notebook_quizz_sets.ipynb\" target=\"_parent\"><img src=\"https://colab.research.google.com/assets/colab-badge.svg\" alt=\"Open In Colab\"/></a>"
      ]
    },
    {
      "cell_type": "markdown",
      "metadata": {
        "id": "TiiaKrlVKvZ2",
        "colab_type": "text"
      },
      "source": [
        "<h3 align=center>List to Set </h3>"
      ]
    },
    {
      "cell_type": "markdown",
      "metadata": {
        "id": "Gfu1iTTYKvZ3",
        "colab_type": "text"
      },
      "source": [
        "Cast the following list to a set:"
      ]
    },
    {
      "cell_type": "code",
      "metadata": {
        "id": "rHiteWTNKvZ5",
        "colab_type": "code",
        "colab": {}
      },
      "source": [
        "['A','B','C','A','B','C']"
      ],
      "execution_count": 0,
      "outputs": []
    },
    {
      "cell_type": "markdown",
      "metadata": {
        "id": "Xi0zY2B6KvZ-",
        "colab_type": "text"
      },
      "source": [
        "<h3 align=center>Add an Element to the Set</h3> "
      ]
    },
    {
      "cell_type": "markdown",
      "metadata": {
        "id": "Fguy4SBCKvZ_",
        "colab_type": "text"
      },
      "source": [
        "Add the string  <code>'D'</code> to the set S"
      ]
    },
    {
      "cell_type": "code",
      "metadata": {
        "id": "HXHTDtl5KvaA",
        "colab_type": "code",
        "colab": {}
      },
      "source": [
        "S={'A','B','C'}\n"
      ],
      "execution_count": 0,
      "outputs": []
    },
    {
      "cell_type": "markdown",
      "metadata": {
        "id": "TpmrrS30KvaE",
        "colab_type": "text"
      },
      "source": [
        "<h3 align=center>Intersection</h3> "
      ]
    },
    {
      "cell_type": "markdown",
      "metadata": {
        "id": "-hkLXEa6KvaF",
        "colab_type": "text"
      },
      "source": [
        "Find the intersection of set <code>A</code> and <code>B</code>"
      ]
    },
    {
      "cell_type": "code",
      "metadata": {
        "id": "C9UD5tm2KvaF",
        "colab_type": "code",
        "colab": {}
      },
      "source": [
        "A={1,2,3,4,5}\n",
        "B={1,3,9, 12}\n"
      ],
      "execution_count": 0,
      "outputs": []
    },
    {
      "cell_type": "markdown",
      "metadata": {
        "id": "5CHsgZu9KvaK",
        "colab_type": "text"
      },
      "source": [
        "<hr>\n",
        "<small>Copyright &copy; 2018 IBM Cognitive Class. This notebook and its source code are released under the terms of the [MIT License](https://cognitiveclass.ai/mit-license/).</small>"
      ]
    }
  ]
}