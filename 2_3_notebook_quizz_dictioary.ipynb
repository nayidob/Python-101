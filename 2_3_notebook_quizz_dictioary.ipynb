{
  "nbformat": 4,
  "nbformat_minor": 0,
  "metadata": {
    "kernelspec": {
      "display_name": "Python 3",
      "language": "python",
      "name": "python3"
    },
    "language_info": {
      "codemirror_mode": {
        "name": "ipython",
        "version": 3
      },
      "file_extension": ".py",
      "mimetype": "text/x-python",
      "name": "python",
      "nbconvert_exporter": "python",
      "pygments_lexer": "ipython3",
      "version": "3.6.5"
    },
    "colab": {
      "name": "2.3_notebook_quizz_dictioary.ipynb",
      "provenance": [],
      "include_colab_link": true
    }
  },
  "cells": [
    {
      "cell_type": "markdown",
      "metadata": {
        "id": "view-in-github",
        "colab_type": "text"
      },
      "source": [
        "<a href=\"https://colab.research.google.com/github/nayidob/Python-for-Data-Science-PY0101EN/blob/master/2_3_notebook_quizz_dictioary.ipynb\" target=\"_parent\"><img src=\"https://colab.research.google.com/assets/colab-badge.svg\" alt=\"Open In Colab\"/></a>"
      ]
    },
    {
      "cell_type": "markdown",
      "metadata": {
        "id": "em1BI-lXK0PG",
        "colab_type": "text"
      },
      "source": [
        "You will need the dictionary <code>D</code>:"
      ]
    },
    {
      "cell_type": "code",
      "metadata": {
        "id": "GjcbFKrLK0PH",
        "colab_type": "code",
        "colab": {}
      },
      "source": [
        "D={'a':0,'b':1,'c':2}"
      ],
      "execution_count": 0,
      "outputs": []
    },
    {
      "cell_type": "markdown",
      "metadata": {
        "id": "sqnXX16xK0PL",
        "colab_type": "text"
      },
      "source": [
        "<h3 align=center>Add an Element to the set</h3> "
      ]
    },
    {
      "cell_type": "markdown",
      "metadata": {
        "id": "CpGwPD1hK0PM",
        "colab_type": "text"
      },
      "source": [
        "Find the value for the key <code> 'a' </code>"
      ]
    },
    {
      "cell_type": "code",
      "metadata": {
        "id": "kBh_ffMUK0PN",
        "colab_type": "code",
        "colab": {}
      },
      "source": [
        ""
      ],
      "execution_count": 0,
      "outputs": []
    },
    {
      "cell_type": "markdown",
      "metadata": {
        "id": "-a564Vf4K0PR",
        "colab_type": "text"
      },
      "source": [
        "<h3 align=center>Keys</h3> "
      ]
    },
    {
      "cell_type": "markdown",
      "metadata": {
        "id": "DJSGzVIZK0PS",
        "colab_type": "text"
      },
      "source": [
        "Find the keys of the dictionary <code>D</code>"
      ]
    },
    {
      "cell_type": "code",
      "metadata": {
        "id": "nXuFuk-YK0PT",
        "colab_type": "code",
        "colab": {},
        "outputId": "1a0eeac4-6739-46e8-ea7d-750144742710"
      },
      "source": [
        "D['b']"
      ],
      "execution_count": 0,
      "outputs": [
        {
          "output_type": "execute_result",
          "data": {
            "text/plain": [
              "1"
            ]
          },
          "metadata": {
            "tags": []
          },
          "execution_count": 6
        }
      ]
    },
    {
      "cell_type": "markdown",
      "metadata": {
        "id": "6ZySi0BhK0PY",
        "colab_type": "text"
      },
      "source": [
        "<hr>\n",
        "<small>Copyright &copy; 2018 IBM Cognitive Class. This notebook and its source code are released under the terms of the [MIT License](https://cognitiveclass.ai/mit-license/).</small>"
      ]
    }
  ]
}