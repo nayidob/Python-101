{
  "nbformat": 4,
  "nbformat_minor": 0,
  "metadata": {
    "kernelspec": {
      "display_name": "Python 3",
      "language": "python",
      "name": "python3"
    },
    "language_info": {
      "codemirror_mode": {
        "name": "ipython",
        "version": 3
      },
      "file_extension": ".py",
      "mimetype": "text/x-python",
      "name": "python",
      "nbconvert_exporter": "python",
      "pygments_lexer": "ipython3",
      "version": "3.6.5"
    },
    "colab": {
      "name": "3.1_notebook_quizz__Conditions_and_Branching.ipynb",
      "provenance": [],
      "include_colab_link": true
    }
  },
  "cells": [
    {
      "cell_type": "markdown",
      "metadata": {
        "id": "view-in-github",
        "colab_type": "text"
      },
      "source": [
        "<a href=\"https://colab.research.google.com/github/nayidob/Python-for-Data-Science-PY0101EN/blob/master/3_1_notebook_quizz__Conditions_and_Branching.ipynb\" target=\"_parent\"><img src=\"https://colab.research.google.com/assets/colab-badge.svg\" alt=\"Open In Colab\"/></a>"
      ]
    },
    {
      "cell_type": "markdown",
      "metadata": {
        "id": "qAvKD0cHK4gh",
        "colab_type": "text"
      },
      "source": [
        "<h3 align=center>Comparison operations</h3> "
      ]
    },
    {
      "cell_type": "markdown",
      "metadata": {
        "id": "0Vx-F5eiK4gj",
        "colab_type": "text"
      },
      "source": [
        "Find the value of <code>i</code> that produces a <code>True</code> "
      ]
    },
    {
      "cell_type": "code",
      "metadata": {
        "id": "UcCGX-RPK4gk",
        "colab_type": "code",
        "colab": {}
      },
      "source": [
        "i=\n",
        "i>100"
      ],
      "execution_count": 0,
      "outputs": []
    },
    {
      "cell_type": "markdown",
      "metadata": {
        "id": "Mngq4n4pK4gp",
        "colab_type": "text"
      },
      "source": [
        "<h3 align=center>Branching </h3> "
      ]
    },
    {
      "cell_type": "markdown",
      "metadata": {
        "id": "zdizbS4JK4gq",
        "colab_type": "text"
      },
      "source": [
        "Find the value of <code>x</code> that prints the statement: <code>\"this is a\"</code>"
      ]
    },
    {
      "cell_type": "code",
      "metadata": {
        "id": "FR9mfuAWK4gr",
        "colab_type": "code",
        "colab": {}
      },
      "source": [
        "x=\n",
        "if(x=='a'):\n",
        "    print(\"this is a\")\n",
        "else:\n",
        "    print(\"this is not a\")"
      ],
      "execution_count": 0,
      "outputs": []
    },
    {
      "cell_type": "markdown",
      "metadata": {
        "id": "OjWPoM0NK4gw",
        "colab_type": "text"
      },
      "source": [
        "<h3 align=center>Logic Operators</h3> "
      ]
    },
    {
      "cell_type": "markdown",
      "metadata": {
        "id": "LOeDgL0GK4gx",
        "colab_type": "text"
      },
      "source": [
        "find the value of <code>y</code> that produces a <code>True</code> statement "
      ]
    },
    {
      "cell_type": "code",
      "metadata": {
        "id": "6u2eFKZpK4gy",
        "colab_type": "code",
        "colab": {}
      },
      "source": [
        "y=\n",
        "x=1\n",
        "x>0 and y<10"
      ],
      "execution_count": 0,
      "outputs": []
    },
    {
      "cell_type": "markdown",
      "metadata": {
        "id": "CcL5aEb5K4g3",
        "colab_type": "text"
      },
      "source": [
        "<hr>\n",
        "<small>Copyright &copy; 2018 IBM Cognitive Class. This notebook and its source code are released under the terms of the [MIT License](https://cognitiveclass.ai/mit-license/).</small>"
      ]
    }
  ]
}